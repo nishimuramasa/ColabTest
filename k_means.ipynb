{
  "cells": [
    {
      "cell_type": "markdown",
      "metadata": {
        "id": "view-in-github",
        "colab_type": "text"
      },
      "source": [
        "<a href=\"https://colab.research.google.com/github/nishimuramasa/ColabTest/blob/main/k_means.ipynb\" target=\"_parent\"><img src=\"https://colab.research.google.com/assets/colab-badge.svg\" alt=\"Open In Colab\"/></a>"
      ]
    },
    {
      "cell_type": "markdown",
      "metadata": {
        "id": "cBcgneV6X7_w"
      },
      "source": [
        "# k-Means"
      ]
    },
    {
      "cell_type": "code",
      "source": [],
      "metadata": {
        "id": "W8F8z6DkX-uD"
      },
      "execution_count": null,
      "outputs": []
    },
    {
      "cell_type": "markdown",
      "metadata": {
        "id": "YPK97rMpX7_x"
      },
      "source": [
        "## Setup"
      ]
    },
    {
      "cell_type": "code",
      "execution_count": null,
      "metadata": {
        "id": "Z8m0Nmv5X7_y"
      },
      "outputs": [],
      "source": [
        "import altair as alt\n",
        "import numpy as np\n",
        "import pandas as pd\n",
        "\n",
        "from sklearn.preprocessing import StandardScaler\n",
        "from sklearn.cluster import KMeans\n",
        "from sklearn.datasets import make_blobs\n",
        "from sklearn.datasets import make_moons\n",
        "from sklearn.cluster import SpectralClustering\n",
        "from sklearn.cluster import MiniBatchKMeans\n",
        "\n"
      ]
    },
    {
      "cell_type": "markdown",
      "metadata": {
        "id": "V4N4Ap1LX7_z"
      },
      "source": [
        "<img  src=\"https://github.com/jakevdp/PythonDataScienceHandbook/blob/master/notebooks/figures/PDSH-cover-small.png?raw=1\">\n",
        "\n",
        "- This notebook contains an excerpt from the [Python Data Science Handbook](http://shop.oreilly.com/product/0636920034919.do) by Jake VanderPlas; the content is available [on GitHub](https://github.com/jakevdp/PythonDataScienceHandbook).\n",
        "- See [Algobeans (2016)](https://algobeans.com/2015/11/30/k-means-clustering-laymans-tutorial/) for a non technical explanation of the k-means method."
      ]
    },
    {
      "cell_type": "markdown",
      "metadata": {
        "id": "zHq_ytqPX7_0"
      },
      "source": [
        "## Introduction\n",
        "\n",
        "K-Means Clustering is an unsupervised learning algorithm which is inferring a function to describe hidden structure from *unlabeled* data. A *label* is the variable we're predicting (e.g. the 'Y' variable in a logistic regression). This means the algorithm only uses input variables, also called features (e.g. the 'X' variables in a logistic regression).\n",
        "\n",
        "- Cluster analysis use case: \"tell me what patterns exist in my data\"\n",
        "\n",
        "The k-means algorithm groups observations (usually customers or products) in distinct clusters, where *k* represents the number of clusters identified. Hence, clustering algorithms seek to learn, from the properties of the data, an optimal division or discrete labeling of groups of points.\n",
        "\n",
        "In particualr, the k-means algorithm searches for a pre-determined number of clusters within an unlabeled multidimensional dataset. It accomplishes this using a simple conception of what the optimal clustering looks like:\n",
        "\n",
        "- The \"cluster center\" is the arithmetic mean of all the points belonging to the cluster.\n",
        "- Each point is closer to its own cluster center than to other cluster centers.\n",
        "\n",
        "Those two assumptions are the basis of the k-means model."
      ]
    },
    {
      "cell_type": "markdown",
      "metadata": {
        "id": "W781SPJyX7_0"
      },
      "source": [
        "## Generate Data\n",
        "\n",
        "First, let's generate a two-dimensional dataset containing four distinct blobs ([see sklearn's documentation](https://scikit-learn.org/stable/modules/generated/sklearn.datasets.make_blobs.html)). To emphasize that this is an unsupervised algorithm, we will leave the labels out of the visualization (see [Matplotlib's documentation](https://matplotlib.org/gallery/shapes_and_collections/scatter.html) for more information about the scatter plot).\n",
        "\n"
      ]
    },
    {
      "cell_type": "code",
      "execution_count": null,
      "metadata": {
        "id": "7VlIGby-X7_1"
      },
      "outputs": [],
      "source": [
        "# create data\n",
        "X, y_true = make_blobs(n_samples=300,\n",
        "                       centers=4,\n",
        "                       cluster_std=0.6,\n",
        "                       random_state=0)"
      ]
    },
    {
      "cell_type": "code",
      "execution_count": null,
      "metadata": {
        "id": "hhsN4Rl7X7_1",
        "outputId": "bb6a84ac-babc-496e-fc86-d58f3de0f136"
      },
      "outputs": [
        {
          "data": {
            "text/html": [
              "<div>\n",
              "<style scoped>\n",
              "    .dataframe tbody tr th:only-of-type {\n",
              "        vertical-align: middle;\n",
              "    }\n",
              "\n",
              "    .dataframe tbody tr th {\n",
              "        vertical-align: top;\n",
              "    }\n",
              "\n",
              "    .dataframe thead th {\n",
              "        text-align: right;\n",
              "    }\n",
              "</style>\n",
              "<table border=\"1\" class=\"dataframe\">\n",
              "  <thead>\n",
              "    <tr style=\"text-align: right;\">\n",
              "      <th></th>\n",
              "      <th>var1</th>\n",
              "      <th>var2</th>\n",
              "    </tr>\n",
              "  </thead>\n",
              "  <tbody>\n",
              "    <tr>\n",
              "      <th>0</th>\n",
              "      <td>0.836857</td>\n",
              "      <td>2.136359</td>\n",
              "    </tr>\n",
              "    <tr>\n",
              "      <th>1</th>\n",
              "      <td>-1.413658</td>\n",
              "      <td>7.409623</td>\n",
              "    </tr>\n",
              "    <tr>\n",
              "      <th>2</th>\n",
              "      <td>1.155213</td>\n",
              "      <td>5.099619</td>\n",
              "    </tr>\n",
              "    <tr>\n",
              "      <th>3</th>\n",
              "      <td>-1.018616</td>\n",
              "      <td>7.814915</td>\n",
              "    </tr>\n",
              "    <tr>\n",
              "      <th>4</th>\n",
              "      <td>1.271351</td>\n",
              "      <td>1.892542</td>\n",
              "    </tr>\n",
              "    <tr>\n",
              "      <th>...</th>\n",
              "      <td>...</td>\n",
              "      <td>...</td>\n",
              "    </tr>\n",
              "    <tr>\n",
              "      <th>295</th>\n",
              "      <td>1.973698</td>\n",
              "      <td>1.579798</td>\n",
              "    </tr>\n",
              "    <tr>\n",
              "      <th>296</th>\n",
              "      <td>2.518342</td>\n",
              "      <td>1.391766</td>\n",
              "    </tr>\n",
              "    <tr>\n",
              "      <th>297</th>\n",
              "      <td>0.438990</td>\n",
              "      <td>4.535929</td>\n",
              "    </tr>\n",
              "    <tr>\n",
              "      <th>298</th>\n",
              "      <td>0.369479</td>\n",
              "      <td>7.791105</td>\n",
              "    </tr>\n",
              "    <tr>\n",
              "      <th>299</th>\n",
              "      <td>-1.791458</td>\n",
              "      <td>2.749669</td>\n",
              "    </tr>\n",
              "  </tbody>\n",
              "</table>\n",
              "<p>300 rows × 2 columns</p>\n",
              "</div>"
            ],
            "text/plain": [
              "         var1      var2\n",
              "0    0.836857  2.136359\n",
              "1   -1.413658  7.409623\n",
              "2    1.155213  5.099619\n",
              "3   -1.018616  7.814915\n",
              "4    1.271351  1.892542\n",
              "..        ...       ...\n",
              "295  1.973698  1.579798\n",
              "296  2.518342  1.391766\n",
              "297  0.438990  4.535929\n",
              "298  0.369479  7.791105\n",
              "299 -1.791458  2.749669\n",
              "\n",
              "[300 rows x 2 columns]"
            ]
          },
          "execution_count": 52,
          "metadata": {},
          "output_type": "execute_result"
        }
      ],
      "source": [
        "# save data as Pandas Dataframe\n",
        "df = pd.DataFrame(X, columns=['var1', 'var2'])\n",
        "df"
      ]
    },
    {
      "cell_type": "code",
      "execution_count": null,
      "metadata": {
        "id": "cu6kVEboX7_2",
        "outputId": "37483c35-1d2f-4417-e05b-61107379e766"
      },
      "outputs": [
        {
          "data": {
            "text/html": [
              "\n",
              "<div id=\"altair-viz-6c6b90dd4b6a4f9f977cd1f0a6006e91\"></div>\n",
              "<script type=\"text/javascript\">\n",
              "  var VEGA_DEBUG = (typeof VEGA_DEBUG == \"undefined\") ? {} : VEGA_DEBUG;\n",
              "  (function(spec, embedOpt){\n",
              "    let outputDiv = document.currentScript.previousElementSibling;\n",
              "    if (outputDiv.id !== \"altair-viz-6c6b90dd4b6a4f9f977cd1f0a6006e91\") {\n",
              "      outputDiv = document.getElementById(\"altair-viz-6c6b90dd4b6a4f9f977cd1f0a6006e91\");\n",
              "    }\n",
              "    const paths = {\n",
              "      \"vega\": \"https://cdn.jsdelivr.net/npm//vega@5?noext\",\n",
              "      \"vega-lib\": \"https://cdn.jsdelivr.net/npm//vega-lib?noext\",\n",
              "      \"vega-lite\": \"https://cdn.jsdelivr.net/npm//vega-lite@4.17.0?noext\",\n",
              "      \"vega-embed\": \"https://cdn.jsdelivr.net/npm//vega-embed@6?noext\",\n",
              "    };\n",
              "\n",
              "    function maybeLoadScript(lib, version) {\n",
              "      var key = `${lib.replace(\"-\", \"\")}_version`;\n",
              "      return (VEGA_DEBUG[key] == version) ?\n",
              "        Promise.resolve(paths[lib]) :\n",
              "        new Promise(function(resolve, reject) {\n",
              "          var s = document.createElement('script');\n",
              "          document.getElementsByTagName(\"head\")[0].appendChild(s);\n",
              "          s.async = true;\n",
              "          s.onload = () => {\n",
              "            VEGA_DEBUG[key] = version;\n",
              "            return resolve(paths[lib]);\n",
              "          };\n",
              "          s.onerror = () => reject(`Error loading script: ${paths[lib]}`);\n",
              "          s.src = paths[lib];\n",
              "        });\n",
              "    }\n",
              "\n",
              "    function showError(err) {\n",
              "      outputDiv.innerHTML = `<div class=\"error\" style=\"color:red;\">${err}</div>`;\n",
              "      throw err;\n",
              "    }\n",
              "\n",
              "    function displayChart(vegaEmbed) {\n",
              "      vegaEmbed(outputDiv, spec, embedOpt)\n",
              "        .catch(err => showError(`Javascript Error: ${err.message}<br>This usually means there's a typo in your chart specification. See the javascript console for the full traceback.`));\n",
              "    }\n",
              "\n",
              "    if(typeof define === \"function\" && define.amd) {\n",
              "      requirejs.config({paths});\n",
              "      require([\"vega-embed\"], displayChart, err => showError(`Error loading script: ${err.message}`));\n",
              "    } else {\n",
              "      maybeLoadScript(\"vega\", \"5\")\n",
              "        .then(() => maybeLoadScript(\"vega-lite\", \"4.17.0\"))\n",
              "        .then(() => maybeLoadScript(\"vega-embed\", \"6\"))\n",
              "        .catch(showError)\n",
              "        .then(() => displayChart(vegaEmbed));\n",
              "    }\n",
              "  })({\"config\": {\"view\": {\"continuousWidth\": 400, \"continuousHeight\": 300}}, \"data\": {\"name\": \"data-74c6598a7e744337f6444089ce7c19a6\"}, \"mark\": \"point\", \"encoding\": {\"x\": {\"field\": \"var1\", \"type\": \"quantitative\"}, \"y\": {\"field\": \"var2\", \"type\": \"quantitative\"}}, \"$schema\": \"https://vega.github.io/schema/vega-lite/v4.17.0.json\", \"datasets\": {\"data-74c6598a7e744337f6444089ce7c19a6\": [{\"var1\": 0.8368568407639814, \"var2\": 2.1363593767535285}, {\"var1\": -1.4136580954824844, \"var2\": 7.409623236133461}, {\"var1\": 1.1552129830701285, \"var2\": 5.0996188654606085}, {\"var1\": -1.0186163167387894, \"var2\": 7.814914647322421}, {\"var1\": 1.2713514103916879, \"var2\": 1.8925420677088496}, {\"var1\": 3.437617540043243, \"var2\": 0.2616541663050085}, {\"var1\": -1.8082225260019826, \"var2\": 1.597017490032788}, {\"var1\": 1.4137244158530171, \"var2\": 4.381177073902836}, {\"var1\": -0.20493216827344374, \"var2\": 8.432096650430893}, {\"var1\": -0.7110996110121923, \"var2\": 8.660438455477388}, {\"var1\": -1.7123726800849306, \"var2\": 2.7778022644069074}, {\"var1\": -2.6700079178821117, \"var2\": 8.353891395940183}, {\"var1\": 1.2425880181937505, \"var2\": 4.50399192387295}, {\"var1\": -2.2278364904868475, \"var2\": 6.894799381056522}, {\"var1\": 1.455138312999139, \"var2\": -0.029198998128630027}, {\"var1\": 0.45379178903736606, \"var2\": 3.956477528589741}, {\"var1\": 1.0692385339646449, \"var2\": 4.530684839209695}, {\"var1\": 2.5693658885744926, \"var2\": 0.5070483039578487}, {\"var1\": -1.0669061042348538, \"var2\": 3.131657951816496}, {\"var1\": -1.0785910126991263, \"var2\": 2.204515288210881}, {\"var1\": 2.715063278965146, \"var2\": 1.2908218983714956}, {\"var1\": 1.7771099366452214, \"var2\": 1.1865525442020142}, {\"var1\": 0.7343639103625873, \"var2\": 5.0372543696778465}, {\"var1\": -1.9964815067184205, \"var2\": 2.85164868191699}, {\"var1\": -1.9182801731829169, \"var2\": 2.6051686739524564}, {\"var1\": -0.5555238109539522, \"var2\": 4.695958484712606}, {\"var1\": 1.6974790983625732, \"var2\": 0.866123282176209}, {\"var1\": 0.5947624315191664, \"var2\": 4.70964730441629}, {\"var1\": -2.880242550863219, \"var2\": 2.3043781551517606}, {\"var1\": 0.18672563223958238, \"var2\": 4.026836564559565}, {\"var1\": -0.5133334362299544, \"var2\": 7.87437367944774}, {\"var1\": -2.0570110283236227, \"var2\": 7.3785159826876585}, {\"var1\": 1.8727175224410586, \"var2\": 4.180692369188909}, {\"var1\": -1.1312139564553216, \"var2\": 6.766522302218239}, {\"var1\": -1.6442895668266, \"var2\": 7.940951387619211}, {\"var1\": -2.419338235635111, \"var2\": 7.439524977803895}, {\"var1\": -2.016069278668694, \"var2\": 7.48420129307493}, {\"var1\": -2.6214277987548673, \"var2\": 7.986350664654516}, {\"var1\": -2.2029994984759513, \"var2\": 2.479475609614228}, {\"var1\": 1.663822372000666, \"var2\": 0.6630916348253761}, {\"var1\": 0.6697869960051712, \"var2\": 3.5954080169749427}, {\"var1\": -1.9853903675657711, \"var2\": 2.0552073770521755}, {\"var1\": -0.04749203582851247, \"var2\": 5.474252564587464}, {\"var1\": 1.5446212592107438, \"var2\": 4.2107812715938895}, {\"var1\": -1.702006430870623, \"var2\": 2.460986934246149}, {\"var1\": -1.0219252547777236, \"var2\": 2.7682071132365533}, {\"var1\": -1.3784255167081396, \"var2\": 8.102695966178473}, {\"var1\": -1.5522068839962528, \"var2\": 2.745749945899178}, {\"var1\": -1.479043028631661, \"var2\": 7.569158359748475}, {\"var1\": 1.9889431270933944, \"var2\": 1.5097672869674166}, {\"var1\": -1.9497241787356456, \"var2\": 3.4838386963148196}, {\"var1\": 2.4550973706520267, \"var2\": 0.6212317875048049}, {\"var1\": -0.8943278823054386, \"var2\": 7.61714472965912}, {\"var1\": 1.6968778800536604, \"var2\": 0.7549106220963326}, {\"var1\": 1.756448051017495, \"var2\": 2.0553828922281285}, {\"var1\": -1.1106401216078259, \"var2\": 2.8221381984453626}, {\"var1\": -0.04150176586826815, \"var2\": 7.80870275976808}, {\"var1\": -1.1409153341841487, \"var2\": 1.975508216153051}, {\"var1\": -1.806349676260743, \"var2\": 7.728306560389196}, {\"var1\": 1.3926375177758077, \"var2\": 0.9289627074945215}, {\"var1\": -2.25698670404281, \"var2\": 7.302077200784324}, {\"var1\": 0.5716704821520695, \"var2\": 4.322885662413}, {\"var1\": -1.549945795131673, \"var2\": 9.282932223367844}, {\"var1\": -1.0381921197291857, \"var2\": 2.953237614842101}, {\"var1\": -2.109566755488596, \"var2\": 3.1067725840426172}, {\"var1\": -1.1865298465103038, \"var2\": 2.78427720102403}, {\"var1\": -2.4580997514260066, \"var2\": 7.511787235616893}, {\"var1\": 2.3696021357334014, \"var2\": 0.9507169121647336}, {\"var1\": -2.666760065030858, \"var2\": 7.84766052466474}, {\"var1\": -1.497207024231851, \"var2\": 3.2141843271016968}, {\"var1\": 1.3222245685154597, \"var2\": 4.178808074101593}, {\"var1\": -0.4872713010704255, \"var2\": 3.328582925448637}, {\"var1\": -1.0371877083373353, \"var2\": 8.063001335762946}, {\"var1\": -1.6049681857381277, \"var2\": 2.974254198964464}, {\"var1\": -1.5037256821177925, \"var2\": 1.9238531999399506}, {\"var1\": -0.785412205540043, \"var2\": 8.453123312911254}, {\"var1\": -1.7578318987306707, \"var2\": 2.9744932149233674}, {\"var1\": 1.1900899168511363, \"var2\": 4.727731228363559}, {\"var1\": 2.1404394194253458, \"var2\": 0.7060666096508798}, {\"var1\": -1.0354011588782195, \"var2\": 8.205591948277561}, {\"var1\": 1.254712438591226, \"var2\": 0.08963315645940362}, {\"var1\": 0.595676822337917, \"var2\": 4.086142627856107}, {\"var1\": 1.2795533755988089, \"var2\": 1.0578941815474465}, {\"var1\": 1.7295506358228474, \"var2\": 1.1472936876947921}, {\"var1\": -0.9490416098002538, \"var2\": 8.464243309222425}, {\"var1\": 0.9353251153517164, \"var2\": 5.33179296043801}, {\"var1\": 2.36923351775193, \"var2\": 0.794735861204588}, {\"var1\": 0.42857674327999995, \"var2\": 4.973997100305902}, {\"var1\": -2.0475827675028513, \"var2\": 6.654285201769982}, {\"var1\": -1.4567261662452882, \"var2\": 7.486698929525399}, {\"var1\": 0.5294171853174312, \"var2\": 3.8079242042529815}, {\"var1\": 1.781948019322472, \"var2\": 0.9081511553529709}, {\"var1\": -1.955750533128763, \"var2\": 8.61631685864045}, {\"var1\": -1.7457201398569167, \"var2\": 3.0119045744965414}, {\"var1\": -1.1797911145845783, \"var2\": 3.127674935529027}, {\"var1\": 1.1641106995370358, \"var2\": 3.791329883867355}, {\"var1\": 1.3615580623397303, \"var2\": 1.3663825209639329}, {\"var1\": 2.601374866288433, \"var2\": 1.087994589052718}, {\"var1\": 0.2723960354779992, \"var2\": 5.469960038837965}, {\"var1\": -3.12240735601995, \"var2\": 3.281673975948751}, {\"var1\": -0.588085171813926, \"var2\": 8.614273199037326}, {\"var1\": 1.6690964797331436, \"var2\": -0.43637823139671905}, {\"var1\": -0.682774903213914, \"var2\": 7.674903167900386}, {\"var1\": 2.367906447304533, \"var2\": 0.5521908780500973}, {\"var1\": 1.0524173341686671, \"var2\": 4.544980945515211}, {\"var1\": 2.2270737347682457, \"var2\": 1.2629699606232072}, {\"var1\": 2.4393464370914333, \"var2\": -0.0725099666485638}, {\"var1\": 1.3447177007541433, \"var2\": 4.857111330388306}, {\"var1\": -1.3145494177857069, \"var2\": 6.839040128520036}, {\"var1\": 0.9825700909789874, \"var2\": 5.375309623791891}, {\"var1\": -1.0629522267803457, \"var2\": 2.207553877217132}, {\"var1\": -1.6071249490229689, \"var2\": 3.5645285449188804}, {\"var1\": 1.5732217229285732, \"var2\": 0.48393379328781655}, {\"var1\": -2.1785133817962388, \"var2\": 8.085851308260695}, {\"var1\": 1.8337584186674118, \"var2\": 0.754036153392381}, {\"var1\": 2.1061604967802476, \"var2\": 3.4951318907629223}, {\"var1\": -1.6433875548291526, \"var2\": 7.526919636077601}, {\"var1\": 1.1055044830318288, \"var2\": 1.2638912874022599}, {\"var1\": 1.6115297235980899, \"var2\": 1.8234724171819783}, {\"var1\": 0.45953466751367356, \"var2\": 5.44982629930781}, {\"var1\": -0.5380230538973697, \"var2\": 3.016418914625523}, {\"var1\": 1.6784149856479307, \"var2\": 0.6090473888614643}, {\"var1\": -1.0121496586465035, \"var2\": 3.602543381327667}, {\"var1\": 1.3419519667624606, \"var2\": 0.5935738473587243}, {\"var1\": 1.4281155017447051, \"var2\": 1.6243508337475574}, {\"var1\": 2.0450552731160134, \"var2\": 1.125154701270986}, {\"var1\": 1.6728053061015404, \"var2\": 0.6593005713406582}, {\"var1\": -1.3586389900321278, \"var2\": 2.3220080947753745}, {\"var1\": 1.130789312766103, \"var2\": 0.9356208564581359}, {\"var1\": -1.738963062476225, \"var2\": 1.9479977481425033}, {\"var1\": -0.3402589252022272, \"var2\": 8.167339254166144}, {\"var1\": -1.6379362158275104, \"var2\": 2.4332931687633095}, {\"var1\": -1.6875441353582852, \"var2\": 2.2410754624511187}, {\"var1\": 2.4304063920491905, \"var2\": -0.06357093342611164}, {\"var1\": -1.379980391744878, \"var2\": 7.185038043238434}, {\"var1\": -1.252454649489311, \"var2\": 2.3391150530928857}, {\"var1\": -2.394824832959938, \"var2\": 3.3980610309371393}, {\"var1\": -2.0918335245068898, \"var2\": 7.48142542811987}, {\"var1\": 0.4883823093198226, \"var2\": 3.268017766049384}, {\"var1\": -0.5394286139731788, \"var2\": 7.456317760838494}, {\"var1\": -2.592018209943192, \"var2\": 8.076359448695767}, {\"var1\": -1.0465651311633073, \"var2\": 2.9648383664301194}, {\"var1\": 1.255667542384771, \"var2\": 3.382041115682056}, {\"var1\": -1.621504222920195, \"var2\": 4.271916359712049}, {\"var1\": 1.869221394823855, \"var2\": 5.44132083306674}, {\"var1\": -1.764041402814518, \"var2\": 2.222229951493175}, {\"var1\": -1.3818191833151425, \"var2\": 7.287612484816516}, {\"var1\": 0.00793137001172417, \"var2\": 4.1761431593200085}, {\"var1\": -1.1029849981550766, \"var2\": 7.302227861229416}, {\"var1\": -1.793513722321582, \"var2\": 7.580869443054853}, {\"var1\": -1.511769487827439, \"var2\": 7.944263073172287}, {\"var1\": 0.9593607415433021, \"var2\": 4.56078644976664}, {\"var1\": -0.6013373925176075, \"var2\": 6.299949215835136}, {\"var1\": 0.22459286251653932, \"var2\": 4.770281540947536}, {\"var1\": 1.5672489659103563, \"var2\": 0.017809063256428503}, {\"var1\": -1.033952585992028, \"var2\": 2.9210578491127395}, {\"var1\": -0.9222686399136384, \"var2\": 8.09888579024482}, {\"var1\": -1.886096375375697, \"var2\": 2.248344069756886}, {\"var1\": 1.868735818413795, \"var2\": 0.9561037596992069}, {\"var1\": 1.1012350653926113, \"var2\": 4.889770749338617}, {\"var1\": -1.9321372480022148, \"var2\": 8.306434528385894}, {\"var1\": 0.670478769495503, \"var2\": 4.0409427464816785}, {\"var1\": 0.7438739881017237, \"var2\": 4.122405677103188}, {\"var1\": 1.6400376127622431, \"var2\": 1.8194898924854155}, {\"var1\": 0.8154680559756669, \"var2\": 4.785261164926227}, {\"var1\": -2.6327457433158945, \"var2\": 2.6310978589088307}, {\"var1\": -0.9610763608283948, \"var2\": 1.274075961019389}, {\"var1\": 0.2139790794550549, \"var2\": 4.885425352343197}, {\"var1\": 1.4347218163621993, \"var2\": 1.306620370906913}, {\"var1\": 1.2138741061434821, \"var2\": 3.6479504222100867}, {\"var1\": 1.0827257638987469, \"var2\": 4.0627187657234325}, {\"var1\": -1.2260523416000606, \"var2\": 8.296201460281216}, {\"var1\": 1.4817005211372116, \"var2\": 0.690074594518305}, {\"var1\": 1.8959376071615694, \"var2\": 5.185402589388561}, {\"var1\": -1.3235615380923387, \"var2\": 4.130508398224001}, {\"var1\": -1.1498986312745982, \"var2\": 7.893252829194312}, {\"var1\": 2.469158420153751, \"var2\": 1.6787713976769358}, {\"var1\": 2.3110227598997386, \"var2\": 1.3038084809560841}, {\"var1\": 0.5727938098809244, \"var2\": 4.088055430524065}, {\"var1\": -0.9677949887533233, \"var2\": 3.12186125161388}, {\"var1\": 2.6249200055883346, \"var2\": 0.9501944047690514}, {\"var1\": 1.6835378212422856, \"var2\": 4.19583242596098}, {\"var1\": -2.2213171687364177, \"var2\": 2.7305069106577067}, {\"var1\": -1.5784624734048731, \"var2\": 3.034458024160586}, {\"var1\": 0.0815155229231318, \"var2\": 4.567422348207112}, {\"var1\": 1.4328927136346912, \"var2\": 4.376792337344087}, {\"var1\": 1.0626962212430218, \"var2\": 5.176351431626175}, {\"var1\": 0.7675227889508035, \"var2\": 4.397596708910778}, {\"var1\": 2.47019077207499, \"var2\": 1.3145131461315405}, {\"var1\": -1.7316316792697708, \"var2\": 7.164472861048615}, {\"var1\": 0.34713829950623953, \"var2\": 3.451776565141005}, {\"var1\": -1.0014043562695067, \"var2\": 2.8488177802407866}, {\"var1\": 1.0161804119763957, \"var2\": 4.485270466092259}, {\"var1\": 0.5595293627076758, \"var2\": 4.2140066032517876}, {\"var1\": -2.1182104558323958, \"var2\": 2.034781256854971}, {\"var1\": -1.3621941985875416, \"var2\": 2.383333211535806}, {\"var1\": -2.7836658559455922, \"var2\": 2.9921154098732266}, {\"var1\": 1.6522516318103992, \"var2\": 3.655828422430336}, {\"var1\": -1.9396065798391149, \"var2\": 2.1894358194766506}, {\"var1\": -1.8148768692407264, \"var2\": 7.978321904340981}, {\"var1\": 1.2021253972398727, \"var2\": 3.6441468530978733}, {\"var1\": -0.9692009463341885, \"var2\": 3.267217016171877}, {\"var1\": 1.8698597400046046, \"var2\": -0.10793862386004904}, {\"var1\": -1.8070113408535629, \"var2\": 2.067738593457367}, {\"var1\": 1.2176750632530244, \"var2\": 3.892901272884202}, {\"var1\": -1.4836891736359323, \"var2\": 6.007774182761638}, {\"var1\": -1.5638798544792938, \"var2\": 2.853499095558418}, {\"var1\": -0.686210296624996, \"var2\": 8.68285663926406}, {\"var1\": 1.0762741757700125, \"var2\": 4.684806189583654}, {\"var1\": -0.9759866271647398, \"var2\": 6.737615769038875}, {\"var1\": 1.3796469327539564, \"var2\": 4.548264429193056}, {\"var1\": -1.641296109370745, \"var2\": 2.680972552913053}, {\"var1\": -0.0018489296331316574, \"var2\": 4.581456680763854}, {\"var1\": 1.7144444869831275, \"var2\": 5.025215236719037}, {\"var1\": -1.4052430421726907, \"var2\": 7.726113145367628}, {\"var1\": -0.7081849043604226, \"var2\": 2.5042127506031604}, {\"var1\": -0.8857983736323, \"var2\": 2.64585077902229}, {\"var1\": 1.9843690943557362, \"var2\": 0.48955673753982665}, {\"var1\": 2.951958248127699, \"var2\": -0.34432735507018264}, {\"var1\": 0.43189105991654975, \"var2\": 4.334954564926074}, {\"var1\": -1.8662169447315362, \"var2\": 7.625493996888132}, {\"var1\": 2.5270642986982637, \"var2\": 0.617812201896371}, {\"var1\": 2.0406718467935168, \"var2\": 0.45484511441452363}, {\"var1\": -2.5804383632845367, \"var2\": 3.1884429384166717}, {\"var1\": 1.6199090943547274, \"var2\": 0.06764528670090364}, {\"var1\": -2.588027083628124, \"var2\": 3.131171336979384}, {\"var1\": 0.44359862996842747, \"var2\": 3.1153094465140336}, {\"var1\": -0.4567736489652049, \"var2\": 7.306008724511643}, {\"var1\": -1.1286756566082712, \"var2\": 7.8050978910645945}, {\"var1\": 2.130035294434726, \"var2\": 5.1920962023090445}, {\"var1\": 1.0037251889273626, \"var2\": 4.19147701743289}, {\"var1\": -1.393467672668282, \"var2\": 8.746416717855018}, {\"var1\": 0.7280986900906466, \"var2\": 3.8553144405839355}, {\"var1\": 0.8934996379249738, \"var2\": 1.010930818014234}, {\"var1\": -1.1078297237575039, \"var2\": 2.920144794784884}, {\"var1\": 0.7893385592700715, \"var2\": 4.3374865327862375}, {\"var1\": 1.9755391748807045, \"var2\": 0.7189891322968999}, {\"var1\": -1.2490258156307412, \"var2\": 3.085339719968595}, {\"var1\": -1.0776879722618216, \"var2\": 8.881061284034972}, {\"var1\": -1.8684912453040163, \"var2\": 3.0798248742975796}, {\"var1\": 2.768085396844259, \"var2\": 1.0878292270928467}, {\"var1\": 0.2771801740764812, \"var2\": 4.844283219620902}, {\"var1\": 3.410852891847389, \"var2\": 0.8723093689415512}, {\"var1\": -1.5808415506889308, \"var2\": 7.5530774207487195}, {\"var1\": -1.5302755043666751, \"var2\": 7.705421133296271}, {\"var1\": -1.824558403726039, \"var2\": 7.359589598016991}, {\"var1\": -1.6856825700229676, \"var2\": 7.953394456078865}, {\"var1\": -1.6510462189202884, \"var2\": 3.445989608581592}, {\"var1\": -1.3044090124532441, \"var2\": 3.003119344445464}, {\"var1\": -0.7306981679490796, \"var2\": 6.242088559856635}, {\"var1\": 2.40615694346486, \"var2\": 4.8704750196426385}, {\"var1\": -1.5363132801834383, \"var2\": 3.0144391623120566}, {\"var1\": 1.4885997678819276, \"var2\": 0.6516338440164078}, {\"var1\": 0.5143204338793053, \"var2\": 4.62733684222348}, {\"var1\": -1.814697501626674, \"var2\": 3.29009724033923}, {\"var1\": -1.9373105518642353, \"var2\": 3.913612739047046}, {\"var1\": -0.6149070967624418, \"var2\": 3.9496358457828395}, {\"var1\": 2.0316978304963804, \"var2\": 0.1968075612932184}, {\"var1\": 2.1491714442121035, \"var2\": 1.0369722816581022}, {\"var1\": -1.3699938792061506, \"var2\": 7.769530348056006}, {\"var1\": 0.9143387674703604, \"var2\": 4.550146428611414}, {\"var1\": 0.33381850564016957, \"var2\": 4.936458363607072}, {\"var1\": -2.1596810916129137, \"var2\": 3.4100309637279316}, {\"var1\": 1.3667863299862164, \"var2\": 0.6349716330912765}, {\"var1\": -0.5710993360374091, \"var2\": 8.133060583447971}, {\"var1\": -1.0055259210838283, \"var2\": 3.0840054048407994}, {\"var1\": 1.4949317978621983, \"var2\": 3.858488315204525}, {\"var1\": -0.5904476673466711, \"var2\": 7.694930534834872}, {\"var1\": 0.7151779475135126, \"var2\": 5.413345564535995}, {\"var1\": 2.113902502061791, \"var2\": 1.247435867789913}, {\"var1\": 1.2008309760433589, \"var2\": 0.6016717299206205}, {\"var1\": -2.5457675048812582, \"var2\": 3.150250546570161}, {\"var1\": -1.9586666463529812, \"var2\": 2.4300864682006766}, {\"var1\": 2.3381228529390596, \"var2\": 3.431167922689131}, {\"var1\": 3.3532090910012915, \"var2\": 1.6995804295997718}, {\"var1\": 1.8428711746807875, \"var2\": 0.07269288388712558}, {\"var1\": 1.3200062101347771, \"var2\": 1.404281445778865}, {\"var1\": 2.096805454802437, \"var2\": 4.847414122413621}, {\"var1\": -1.2430790353956045, \"var2\": 8.15166254071439}, {\"var1\": -1.859080899918569, \"var2\": 7.788747162077084}, {\"var1\": 2.74666646030275, \"var2\": 1.5454348151600295}, {\"var1\": 2.6077828157013694, \"var2\": 1.0889002517037496}, {\"var1\": 1.6599104892724754, \"var2\": 3.5628918352361985}, {\"var1\": 2.351512587842391, \"var2\": 0.8280012965173169}, {\"var1\": 2.223222280858821, \"var2\": 0.8387734261521621}, {\"var1\": 3.2288149063832945, \"var2\": 1.1317196535506926}, {\"var1\": -1.5587672002523922, \"var2\": 7.248162100026332}, {\"var1\": -0.6469567838773989, \"var2\": 3.429413425009862}, {\"var1\": -1.3268881816709976, \"var2\": 8.515307943377428}, {\"var1\": 0.9171985638912357, \"var2\": 3.9057003556311254}, {\"var1\": 2.294695328816956, \"var2\": -0.7658919939180533}, {\"var1\": 1.815598103875153, \"var2\": 1.119697192646448}, {\"var1\": -1.120167745400049, \"var2\": 7.1103158234016615}, {\"var1\": -1.6550712436848205, \"var2\": 8.614167490032253}, {\"var1\": -1.2756781511422912, \"var2\": 7.967764609095898}, {\"var1\": 1.9736977010258854, \"var2\": 1.579798477499554}, {\"var1\": 2.518341852161078, \"var2\": 1.3917661523161757}, {\"var1\": 0.4389901418302897, \"var2\": 4.535928826163947}, {\"var1\": 0.36947865679199743, \"var2\": 7.791105215873345}, {\"var1\": -1.7914575925974603, \"var2\": 2.7496689642224172}]}}, {\"mode\": \"vega-lite\"});\n",
              "</script>"
            ],
            "text/plain": [
              "alt.Chart(...)"
            ]
          },
          "execution_count": 53,
          "metadata": {},
          "output_type": "execute_result"
        }
      ],
      "source": [
        "# create scatterplot\n",
        "alt.Chart(df).mark_point().encode(\n",
        "    alt.X('var1:Q'),\n",
        "    alt.Y('var2:Q')\n",
        ")"
      ]
    },
    {
      "cell_type": "markdown",
      "metadata": {
        "id": "JoQVUnKrX7_2"
      },
      "source": [
        "By eye, it is relatively easy to pick out the four clusters."
      ]
    },
    {
      "cell_type": "markdown",
      "metadata": {
        "id": "1sFwj_ubX7_2"
      },
      "source": [
        "## Standardize\n",
        "\n",
        "Standardization of a dataset is a common requirement for many methods: they might behave badly if the individual features do not more or less look like standard normally distributed data (e.g. Gaussian with 0 mean and unit variance).\n",
        "\n",
        "In our case the features were generated and standardization is not necessary. However, the standardization process will be performed to demonstrate the procedure ([see sklearn standardscaler documentation](https://scikit-learn.org/stable/modules/generated/sklearn.preprocessing.StandardScaler.html#sklearn.preprocessing.StandardScaler))  "
      ]
    },
    {
      "cell_type": "code",
      "execution_count": null,
      "metadata": {
        "scrolled": false,
        "id": "a-BuBrXQX7_3"
      },
      "outputs": [],
      "source": [
        "# Initialize StandardScaler() as scaler\n",
        "scaler = StandardScaler()"
      ]
    },
    {
      "cell_type": "code",
      "execution_count": null,
      "metadata": {
        "id": "Kk1__Sd5X7_3"
      },
      "outputs": [],
      "source": [
        "# use fit_transform to use the function on the data\n",
        "X_std = scaler.fit_transform(X)"
      ]
    },
    {
      "cell_type": "code",
      "execution_count": null,
      "metadata": {
        "id": "9kNRqBnXX7_3",
        "outputId": "6bd92a58-533a-42e0-8178-2b2499045cdb"
      },
      "outputs": [
        {
          "data": {
            "text/html": [
              "<div>\n",
              "<style scoped>\n",
              "    .dataframe tbody tr th:only-of-type {\n",
              "        vertical-align: middle;\n",
              "    }\n",
              "\n",
              "    .dataframe tbody tr th {\n",
              "        vertical-align: top;\n",
              "    }\n",
              "\n",
              "    .dataframe thead th {\n",
              "        text-align: right;\n",
              "    }\n",
              "</style>\n",
              "<table border=\"1\" class=\"dataframe\">\n",
              "  <thead>\n",
              "    <tr style=\"text-align: right;\">\n",
              "      <th></th>\n",
              "      <th>var1_std</th>\n",
              "      <th>var2_std</th>\n",
              "    </tr>\n",
              "  </thead>\n",
              "  <tbody>\n",
              "    <tr>\n",
              "      <th>0</th>\n",
              "      <td>0.516255</td>\n",
              "      <td>-0.707227</td>\n",
              "    </tr>\n",
              "    <tr>\n",
              "      <th>1</th>\n",
              "      <td>-0.861664</td>\n",
              "      <td>1.329068</td>\n",
              "    </tr>\n",
              "    <tr>\n",
              "      <th>2</th>\n",
              "      <td>0.711174</td>\n",
              "      <td>0.437049</td>\n",
              "    </tr>\n",
              "    <tr>\n",
              "      <th>3</th>\n",
              "      <td>-0.619792</td>\n",
              "      <td>1.485573</td>\n",
              "    </tr>\n",
              "    <tr>\n",
              "      <th>4</th>\n",
              "      <td>0.782282</td>\n",
              "      <td>-0.801378</td>\n",
              "    </tr>\n",
              "    <tr>\n",
              "      <th>...</th>\n",
              "      <td>...</td>\n",
              "      <td>...</td>\n",
              "    </tr>\n",
              "    <tr>\n",
              "      <th>295</th>\n",
              "      <td>1.212307</td>\n",
              "      <td>-0.922146</td>\n",
              "    </tr>\n",
              "    <tr>\n",
              "      <th>296</th>\n",
              "      <td>1.545775</td>\n",
              "      <td>-0.994755</td>\n",
              "    </tr>\n",
              "    <tr>\n",
              "      <th>297</th>\n",
              "      <td>0.272654</td>\n",
              "      <td>0.219377</td>\n",
              "    </tr>\n",
              "    <tr>\n",
              "      <th>298</th>\n",
              "      <td>0.230094</td>\n",
              "      <td>1.476379</td>\n",
              "    </tr>\n",
              "    <tr>\n",
              "      <th>299</th>\n",
              "      <td>-1.092978</td>\n",
              "      <td>-0.470395</td>\n",
              "    </tr>\n",
              "  </tbody>\n",
              "</table>\n",
              "<p>300 rows × 2 columns</p>\n",
              "</div>"
            ],
            "text/plain": [
              "     var1_std  var2_std\n",
              "0    0.516255 -0.707227\n",
              "1   -0.861664  1.329068\n",
              "2    0.711174  0.437049\n",
              "3   -0.619792  1.485573\n",
              "4    0.782282 -0.801378\n",
              "..        ...       ...\n",
              "295  1.212307 -0.922146\n",
              "296  1.545775 -0.994755\n",
              "297  0.272654  0.219377\n",
              "298  0.230094  1.476379\n",
              "299 -1.092978 -0.470395\n",
              "\n",
              "[300 rows x 2 columns]"
            ]
          },
          "execution_count": 57,
          "metadata": {},
          "output_type": "execute_result"
        }
      ],
      "source": [
        "# create Pandas Dataframe\n",
        "df_std = pd.DataFrame(X_std, columns=['var1_std', 'var2_std'])\n",
        "\n",
        "df_std"
      ]
    },
    {
      "cell_type": "code",
      "execution_count": null,
      "metadata": {
        "id": "nwaLgREWX7_3",
        "outputId": "9f2a4b1f-dfbd-4baa-bcf0-334d53bebae5"
      },
      "outputs": [
        {
          "data": {
            "text/html": [
              "\n",
              "<div id=\"altair-viz-e29f8a05112d492795f90ffa0afb2350\"></div>\n",
              "<script type=\"text/javascript\">\n",
              "  var VEGA_DEBUG = (typeof VEGA_DEBUG == \"undefined\") ? {} : VEGA_DEBUG;\n",
              "  (function(spec, embedOpt){\n",
              "    let outputDiv = document.currentScript.previousElementSibling;\n",
              "    if (outputDiv.id !== \"altair-viz-e29f8a05112d492795f90ffa0afb2350\") {\n",
              "      outputDiv = document.getElementById(\"altair-viz-e29f8a05112d492795f90ffa0afb2350\");\n",
              "    }\n",
              "    const paths = {\n",
              "      \"vega\": \"https://cdn.jsdelivr.net/npm//vega@5?noext\",\n",
              "      \"vega-lib\": \"https://cdn.jsdelivr.net/npm//vega-lib?noext\",\n",
              "      \"vega-lite\": \"https://cdn.jsdelivr.net/npm//vega-lite@4.17.0?noext\",\n",
              "      \"vega-embed\": \"https://cdn.jsdelivr.net/npm//vega-embed@6?noext\",\n",
              "    };\n",
              "\n",
              "    function maybeLoadScript(lib, version) {\n",
              "      var key = `${lib.replace(\"-\", \"\")}_version`;\n",
              "      return (VEGA_DEBUG[key] == version) ?\n",
              "        Promise.resolve(paths[lib]) :\n",
              "        new Promise(function(resolve, reject) {\n",
              "          var s = document.createElement('script');\n",
              "          document.getElementsByTagName(\"head\")[0].appendChild(s);\n",
              "          s.async = true;\n",
              "          s.onload = () => {\n",
              "            VEGA_DEBUG[key] = version;\n",
              "            return resolve(paths[lib]);\n",
              "          };\n",
              "          s.onerror = () => reject(`Error loading script: ${paths[lib]}`);\n",
              "          s.src = paths[lib];\n",
              "        });\n",
              "    }\n",
              "\n",
              "    function showError(err) {\n",
              "      outputDiv.innerHTML = `<div class=\"error\" style=\"color:red;\">${err}</div>`;\n",
              "      throw err;\n",
              "    }\n",
              "\n",
              "    function displayChart(vegaEmbed) {\n",
              "      vegaEmbed(outputDiv, spec, embedOpt)\n",
              "        .catch(err => showError(`Javascript Error: ${err.message}<br>This usually means there's a typo in your chart specification. See the javascript console for the full traceback.`));\n",
              "    }\n",
              "\n",
              "    if(typeof define === \"function\" && define.amd) {\n",
              "      requirejs.config({paths});\n",
              "      require([\"vega-embed\"], displayChart, err => showError(`Error loading script: ${err.message}`));\n",
              "    } else {\n",
              "      maybeLoadScript(\"vega\", \"5\")\n",
              "        .then(() => maybeLoadScript(\"vega-lite\", \"4.17.0\"))\n",
              "        .then(() => maybeLoadScript(\"vega-embed\", \"6\"))\n",
              "        .catch(showError)\n",
              "        .then(() => displayChart(vegaEmbed));\n",
              "    }\n",
              "  })({\"config\": {\"view\": {\"continuousWidth\": 400, \"continuousHeight\": 300}}, \"data\": {\"name\": \"data-e1aa9174476f7e44faa9d67cd9250b74\"}, \"mark\": \"point\", \"encoding\": {\"x\": {\"field\": \"var1_std\", \"type\": \"quantitative\"}, \"y\": {\"field\": \"var2_std\", \"type\": \"quantitative\"}}, \"$schema\": \"https://vega.github.io/schema/vega-lite/v4.17.0.json\", \"datasets\": {\"data-e1aa9174476f7e44faa9d67cd9250b74\": [{\"var1_std\": 0.516255078471987, \"var2_std\": -0.7072272278864006}, {\"var1_std\": -0.8616637606845958, \"var2_std\": 1.3290676986909944}, {\"var1_std\": 0.7111744362508299, \"var2_std\": 0.4370489592900326}, {\"var1_std\": -0.6197922225677518, \"var2_std\": 1.485572828416575}, {\"var1_std\": 0.7822823077779124, \"var2_std\": -0.8013783954856287}, {\"var1_std\": 2.1086182776480533, \"var2_std\": -1.431153208202017}, {\"var1_std\": -1.1032430336400916, \"var2_std\": -0.9154965610559462}, {\"var1_std\": 0.8694527785234681, \"var2_std\": 0.15961937977297588}, {\"var1_std\": -0.12159925382280043, \"var2_std\": 1.723900478088259}, {\"var1_std\": -0.431509507642618, \"var2_std\": 1.8120757091293962}, {\"var1_std\": -1.044557216322371, \"var2_std\": -0.4595311268285412}, {\"var1_std\": -1.6308868664609029, \"var2_std\": 1.693701161839773}, {\"var1_std\": 0.7646713960042317, \"var2_std\": 0.20704489508407842}, {\"var1_std\": -1.3601593408925203, \"var2_std\": 1.1302661154344613}, {\"var1_std\": 0.894809192809574, \"var2_std\": -1.5434674862106357}, {\"var1_std\": 0.2817165100335377, \"var2_std\": -0.004380289597347031}, {\"var1_std\": 0.6585350108461984, \"var2_std\": 0.2173524862695809}, {\"var1_std\": 1.5770153593919334, \"var2_std\": -1.3363931410330907}, {\"var1_std\": -0.6493585261980992, \"var2_std\": -0.3228881367890802}, {\"var1_std\": -0.6565128246421679, \"var2_std\": -0.680908511353755}, {\"var1_std\": 1.6662212454768621, \"var2_std\": -1.0337353874198463}, {\"var1_std\": 1.0919421950173778, \"var2_std\": -1.0739994748151966}, {\"var1_std\": 0.4535019114496915, \"var2_std\": 0.41296662437422804}, {\"var1_std\": -1.2185080301045215, \"var2_std\": -0.43101499539047217}, {\"var1_std\": -1.1706278365584801, \"var2_std\": -0.5261943763403102}, {\"var1_std\": -0.33625538496852164, \"var2_std\": 0.2811736594194682}, {\"var1_std\": 1.0431867611029966, \"var2_std\": -1.1977346980070835}, {\"var1_std\": 0.3680283584532841, \"var2_std\": 0.28645965967600034}, {\"var1_std\": -1.7596068570560297, \"var2_std\": -0.6423460091297343}, {\"var1_std\": 0.11820038186840971, \"var2_std\": 0.022789173529247895}, {\"var1_std\": -0.31042355811549355, \"var2_std\": 1.5085332052694462}, {\"var1_std\": -1.2555683343049686, \"var2_std\": 1.3170554906808127}, {\"var1_std\": 1.1504796841549019, \"var2_std\": 0.08220129527125697}, {\"var1_std\": -0.6887321822681498, \"var2_std\": 1.0807313354954806}, {\"var1_std\": -1.0028720877874981, \"var2_std\": 1.5342424913943125}, {\"var1_std\": -1.477409779057245, \"var2_std\": 1.3406143928225662}, {\"var1_std\": -1.2305010009365218, \"var2_std\": 1.3578663560374846}, {\"var1_std\": -1.6011428019911302, \"var2_std\": 1.5517736295968572}, {\"var1_std\": -1.3449524392858707, \"var2_std\": -0.5747313272768023}, {\"var1_std\": 1.022579816189421, \"var2_std\": -1.2761362960419989}, {\"var1_std\": 0.4139635171762042, \"var2_std\": -0.14380893080504234}, {\"var1_std\": -1.2117172777571357, \"var2_std\": -0.7385644432581545}, {\"var1_std\": -0.025203659622922547, \"var2_std\": 0.581715473464167}, {\"var1_std\": 0.9495967595936684, \"var2_std\": 0.09382026237538896}, {\"var1_std\": -1.0382102910681847, \"var2_std\": -0.5818708137229788}, {\"var1_std\": -0.6218181802665945, \"var2_std\": -0.46323633828181987}, {\"var1_std\": -0.8400919713739199, \"var2_std\": 1.5967008992237952}, {\"var1_std\": -0.9464927848162247, \"var2_std\": -0.47190827602926533}, {\"var1_std\": -0.9016968792087989, \"var2_std\": 1.390672915401381}, {\"var1_std\": 1.2216409315936436, \"var2_std\": -0.9491886255121623}, {\"var1_std\": -1.189880002776898, \"var2_std\": -0.18689193360562847}, {\"var1_std\": 1.5070523740182502, \"var2_std\": -1.2923006672927495}, {\"var1_std\": -0.5436943604577461, \"var2_std\": 1.409203071335092}, {\"var1_std\": 1.0428186542217872, \"var2_std\": -1.2406799746954489}, {\"var1_std\": 1.0792915784849555, \"var2_std\": -0.73849666727124}, {\"var1_std\": -0.6761354764327543, \"var2_std\": -0.44241060338138105}, {\"var1_std\": -0.021536007523878464, \"var2_std\": 1.4831740796627315}, {\"var1_std\": -0.6946720278221724, \"var2_std\": -0.7693406382901334}, {\"var1_std\": -1.1020963472085552, \"var2_std\": 1.452128720037853}, {\"var1_std\": 0.8565419403628368, \"var2_std\": -1.1734689668817373}, {\"var1_std\": -1.3780070911017195, \"var2_std\": 1.2875383058908563}, {\"var1_std\": 0.3538898910504229, \"var2_std\": 0.13710988496196808}, {\"var1_std\": -0.9451083918964834, \"var2_std\": 2.0524545210347864}, {\"var1_std\": -0.6317778651856467, \"var2_std\": -0.39178596490229567}, {\"var1_std\": -1.2877465373463457, \"var2_std\": -0.33249773522664455}, {\"var1_std\": -0.7226003454088928, \"var2_std\": -0.4570308004775462}, {\"var1_std\": -1.5011422244555503, \"var2_std\": 1.3685187937574623}, {\"var1_std\": 1.4547063562446583, \"var2_std\": -1.1650684813792183}, {\"var1_std\": -1.6288983092829554, \"var2_std\": 1.4982177985293224}, {\"var1_std\": -0.9128181169880971, \"var2_std\": -0.29102020000773415}, {\"var1_std\": 0.8134303272187663, \"var2_std\": 0.08147366611618426}, {\"var1_std\": -0.2944665402585691, \"var2_std\": -0.246844658704775}, {\"var1_std\": -0.6311628959815754, \"var2_std\": 1.5813726363712313}, {\"var1_std\": -0.978796854643821, \"var2_std\": -0.38367031494364034}, {\"var1_std\": -0.9168092842371519, \"var2_std\": -0.7892874587512241}, {\"var1_std\": -0.47700874976598406, \"var2_std\": 1.7320200198508913}, {\"var1_std\": -1.0723904525193173, \"var2_std\": -0.38357801783932993}, {\"var1_std\": 0.7325284754242025, \"var2_std\": 0.2934428495122026}, {\"var1_std\": 1.3143973012157588, \"var2_std\": -1.2595413132115256}, {\"var1_std\": -0.6300690484726553, \"var2_std\": 1.636434652720858}, {\"var1_std\": 0.7720947936500167, \"var2_std\": -1.497579906913527}, {\"var1_std\": 0.36858821091869787, \"var2_std\": 0.045690480770154245}, {\"var1_std\": 0.7873041106528795, \"var2_std\": -1.1236814892414684}, {\"var1_std\": 1.0628231451835812, \"var2_std\": -1.0891594615825357}, {\"var1_std\": -0.5771938385822178, \"var2_std\": 1.7363140572205025}, {\"var1_std\": 0.5765440765267968, \"var2_std\": 0.5267040465931688}, {\"var1_std\": 1.454480663158627, \"var2_std\": -1.2253012766995919}, {\"var1_std\": 0.2662781381215439, \"var2_std\": 0.3885395408589388}, {\"var1_std\": -1.2497957095619885, \"var2_std\": 1.037390466479414}, {\"var1_std\": -0.888032972954377, \"var2_std\": 1.358830829761567}, {\"var1_std\": 0.32801953898689534, \"var2_std\": -0.06174483435364134}, {\"var1_std\": 1.0949043994262493, \"var2_std\": -1.1815054428044542}, {\"var1_std\": -1.1935697482284702, \"var2_std\": 1.795037952971654}, {\"var1_std\": -1.0649748071224898, \"var2_std\": -0.36913145045209234}, {\"var1_std\": -0.7184744338128695, \"var2_std\": -0.3244261967221559}, {\"var1_std\": 0.7166222255313017, \"var2_std\": -0.06815280697028646}, {\"var1_std\": 0.8375129766059802, \"var2_std\": -1.0045573078590597}, {\"var1_std\": 1.596613440126178, \"var2_std\": -1.1120580793903057}, {\"var1_std\": 0.17065364964242447, \"var2_std\": 0.5800578950385475}, {\"var1_std\": -1.9078766782564518, \"var2_std\": -0.2649587638254175}, {\"var1_std\": -0.3561916723643144, \"var2_std\": 1.7942487844808546}, {\"var1_std\": 1.0258089848953365, \"var2_std\": -1.700701607055288}, {\"var1_std\": -0.4141671883981396, \"var2_std\": 1.4315067560916428}, {\"var1_std\": 1.4536681400596216, \"var2_std\": -1.3189611298445783}, {\"var1_std\": 0.648235924302586, \"var2_std\": 0.22287299302138167}, {\"var1_std\": 1.3674407417660865, \"var2_std\": -1.044490540403763}, {\"var1_std\": 1.4974085775084418, \"var2_std\": -1.5601922145409688}, {\"var1_std\": 0.8272021579069978, \"var2_std\": 0.3434035668930388}, {\"var1_std\": -0.8009826641396175, \"var2_std\": 1.1087344253697153}, {\"var1_std\": 0.6054706750238, \"var2_std\": 0.5435082049232061}, {\"var1_std\": -0.6469376925726313, \"var2_std\": -0.6797351463292879}, {\"var1_std\": -0.9801173723235396, \"var2_std\": -0.15573317999111322}, {\"var1_std\": 0.9671079154321364, \"var2_std\": -1.3453189149110625}, {\"var1_std\": -1.3299603675038298, \"var2_std\": 1.590196257625615}, {\"var1_std\": 1.1266262619083922, \"var2_std\": -1.2410176547798883}, {\"var1_std\": 1.293409405273397, \"var2_std\": -0.1825310149843047}, {\"var1_std\": -1.0023198144813272, \"var2_std\": 1.3743622393173247}, {\"var1_std\": 0.6807394999765444, \"var2_std\": -1.0441347658595843}, {\"var1_std\": 0.990562687921222, \"var2_std\": -0.8280499565337572}, {\"var1_std\": 0.2852326921819171, \"var2_std\": 0.5722831595518416}, {\"var1_std\": -0.3255402270909262, \"var2_std\": -0.3673882173906291}, {\"var1_std\": 1.0315144101942206, \"var2_std\": -1.2970057284849177}, {\"var1_std\": -0.6158328931413021, \"var2_std\": -0.14105357726723505}, {\"var1_std\": 0.8255087867989653, \"var2_std\": -1.302980907216429}, {\"var1_std\": 0.8782639834822544, \"var2_std\": -0.9049416655269132}, {\"var1_std\": 1.2559966169813739, \"var2_std\": -1.0977085323168159}, {\"var1_std\": 1.0280797815214182, \"var2_std\": -1.2776002325234879}, {\"var1_std\": -0.8279773093340297, \"var2_std\": -0.6355381274138263}, {\"var1_std\": 0.6962205984018816, \"var2_std\": -1.170897892246265}, {\"var1_std\": -1.060837663186879, \"var2_std\": -0.7799639311750519}, {\"var1_std\": -0.20445553031796482, \"var2_std\": 1.6216632001586198}, {\"var1_std\": -0.9989821326965886, \"var2_std\": -0.592564887764091}, {\"var1_std\": -1.0293554867196577, \"var2_std\": -0.6667906330708853}, {\"var1_std\": 1.4919348717852705, \"var2_std\": -1.5567403660302959}, {\"var1_std\": -0.8410439719899343, \"var2_std\": 1.2423431005916448}, {\"var1_std\": -0.7629640090884445, \"var2_std\": -0.6289321973181503}, {\"var1_std\": -1.4624010009265438, \"var2_std\": -0.22001537090746728}, {\"var1_std\": -1.2768890430656978, \"var2_std\": 1.3567944431054588}, {\"var1_std\": 0.3028951873156888, \"var2_std\": -0.27023217165705743}, {\"var1_std\": -0.3264008068972766, \"var2_std\": 1.3470990026976521}, {\"var1_std\": -1.583136244548306, \"var2_std\": 1.586530932697588}, {\"var1_std\": -0.6369043942345017, \"var2_std\": -0.38730628168653025}, {\"var1_std\": 0.7726795733772156, \"var2_std\": -0.22620153435917853}, {\"var1_std\": -0.9889213451731605, \"var2_std\": 0.11742785590580407}, {\"var1_std\": 1.1483391162207583, \"var2_std\": 0.5689987349114818}, {\"var1_std\": -1.0761923347113207, \"var2_std\": -0.674067913210046}, {\"var1_std\": -0.8421698056847666, \"var2_std\": 1.2819526897477844}, {\"var1_std\": 0.008730332019388193, \"var2_std\": 0.08044459710044558}, {\"var1_std\": -0.6714484874011661, \"var2_std\": 1.2875964841099172}, {\"var1_std\": -1.0942373001671635, \"var2_std\": 1.3951952037141655}, {\"var1_std\": -0.9217342510735521, \"var2_std\": 1.53552131389779}, {\"var1_std\": 0.5912603272865227, \"var2_std\": 0.22897636068464278}, {\"var1_std\": -0.3643055863286978, \"var2_std\": 0.9005620069705117}, {\"var1_std\": 0.14138528464107242, \"var2_std\": 0.3098738470783332}, {\"var1_std\": 0.9634509859514406, \"var2_std\": -1.5253151085828092}, {\"var1_std\": -0.6291821332882115, \"var2_std\": -0.40421232842980803}, {\"var1_std\": -0.5608015991916773, \"var2_std\": 1.5952295823828477}, {\"var1_std\": -1.1509227190318494, \"var2_std\": -0.6639838271581318}, {\"var1_std\": 1.14804181320246, \"var2_std\": -1.1629883255976747}, {\"var1_std\": 0.6781254711147243, \"var2_std\": 0.3560151507027868}, {\"var1_std\": -1.1791120834930766, \"var2_std\": 1.6753754756596364}, {\"var1_std\": 0.4143870681197705, \"var2_std\": 0.028236340112858912}, {\"var1_std\": 0.45932463009401003, \"var2_std\": 0.05969362287970539}, {\"var1_std\": 1.0080171632998172, \"var2_std\": -0.8295878266367589}, {\"var1_std\": 0.5031594046633789, \"var2_std\": 0.31565829730181033}, {\"var1_std\": -1.6080724200887464, \"var2_std\": -0.5161817031297645}, {\"var1_std\": -0.5845623345202596, \"var2_std\": -1.0402019076206557}, {\"var1_std\": 0.13488680227172956, \"var2_std\": 0.35433715580404873}, {\"var1_std\": 0.8823088201648419, \"var2_std\": -1.0276347350858428}, {\"var1_std\": 0.7470907793539199, \"var2_std\": -0.12351944101966336}, {\"var1_std\": 0.6667928135005685, \"var2_std\": 0.036645249411823795}, {\"var1_std\": -0.7467987142699674, \"var2_std\": 1.6714239296682836}, {\"var1_std\": 0.9110723894733975, \"var2_std\": -1.265716702903488}, {\"var1_std\": 1.164696604766221, \"var2_std\": 0.47017473612873334}, {\"var1_std\": -0.8065004992587058, \"var2_std\": 0.0628225256522139}, {\"var1_std\": -0.7001722154011609, \"var2_std\": 1.515823475180491}, {\"var1_std\": 1.5156615081744775, \"var2_std\": -0.8839269161826799}, {\"var1_std\": 1.4188400643808667, \"var2_std\": -1.0287205592345399}, {\"var1_std\": 0.35457766895191856, \"var2_std\": 0.04642911825770909}, {\"var1_std\": -0.588675937074919, \"var2_std\": -0.32667117732180495}, {\"var1_std\": 1.6110293813356202, \"var2_std\": -1.1652702499967764}, {\"var1_std\": 1.0346509597730191, \"var2_std\": 0.08804769735072464}, {\"var1_std\": -1.3561677671803178, \"var2_std\": -0.4777944437150785}, {\"var1_std\": -0.9625682485674841, \"var2_std\": -0.36042233284440395}, {\"var1_std\": 0.053783572469823133, \"var2_std\": 0.23153884317896725}, {\"var1_std\": 0.881188918640798, \"var2_std\": 0.15792619372216274}, {\"var1_std\": 0.6545293604923227, \"var2_std\": 0.4666795902148012}, {\"var1_std\": 0.47380403997864656, \"var2_std\": 0.16595989683309825}, {\"var1_std\": 1.516293584477551, \"var2_std\": -1.0245869038801396}, {\"var1_std\": -1.0563488900289908, \"var2_std\": 1.2344017615511604}, {\"var1_std\": 0.2164159647584033, \"var2_std\": -0.19927287201218394}, {\"var1_std\": -0.6092538856709531, \"var2_std\": -0.4321081610037647}, {\"var1_std\": 0.626049207406114, \"var2_std\": 0.1998155186459655}, {\"var1_std\": 0.346456269108423, \"var2_std\": 0.0950657389277949}, {\"var1_std\": -1.293038800619928, \"var2_std\": -0.7464520828749817}, {\"var1_std\": -0.8301540506507551, \"var2_std\": -0.6118571534551827}, {\"var1_std\": -1.7004760131735068, \"var2_std\": -0.3767731267645686}, {\"var1_std\": 1.015495419354559, \"var2_std\": -0.12047731524939026}, {\"var1_std\": -1.1836853182173672, \"var2_std\": -0.686731517085656}, {\"var1_std\": -1.107317276722509, \"var2_std\": 1.5486732871279183}, {\"var1_std\": 0.7398974179265788, \"var2_std\": -0.12498820660633311}, {\"var1_std\": -0.5895367602609941, \"var2_std\": -0.2705413848799315}, {\"var1_std\": 1.1487299547067746, \"var2_std\": -1.573873152354629}, {\"var1_std\": -1.1025014634301655, \"var2_std\": -0.7337254568030493}, {\"var1_std\": 0.7494179847075532, \"var2_std\": -0.028930551142423343}, {\"var1_std\": -0.9045415662747361, \"var2_std\": 0.7877372833485639}, {\"var1_std\": -0.9536397740134293, \"var2_std\": -0.4303004497104932}, {\"var1_std\": -0.41627057070625234, \"var2_std\": 1.8207325932006677}, {\"var1_std\": 0.6628427109343137, \"var2_std\": 0.2768671497138359}, {\"var1_std\": -0.5936914171807633, \"var2_std\": 1.0695689456686608}, {\"var1_std\": 0.8485882176192194, \"var2_std\": 0.2241409252419176}, {\"var1_std\": -1.0010392888328217, \"var2_std\": -0.49692236222180936}, {\"var1_std\": 0.002742165082038257, \"var2_std\": 0.23695826480194584}, {\"var1_std\": 1.0535741298857446, \"var2_std\": 0.40831765818968785}, {\"var1_std\": -0.8565114907301422, \"var2_std\": 1.451281722808167}, {\"var1_std\": -0.42972492530485884, \"var2_std\": -0.565178967289317}, {\"var1_std\": -0.5384720131183992, \"var2_std\": -0.510484795639387}, {\"var1_std\": 1.2188403965789103, \"var2_std\": -1.3431475893035967}, {\"var1_std\": 1.8112645134210974, \"var2_std\": -1.6651557406907003}, {\"var1_std\": 0.2683073889649304, \"var2_std\": 0.14177034679586883}, {\"var1_std\": -1.138751174842064, \"var2_std\": 1.4124271790134575}, {\"var1_std\": 1.551115439032397, \"var2_std\": -1.2936211558954704}, {\"var1_std\": 1.2533127842226823, \"var2_std\": -1.3565516411296004}, {\"var1_std\": -1.5760462721119897, \"var2_std\": -0.3009603548302802}, {\"var1_std\": 0.9956931105813381, \"var2_std\": -1.5060706232572267}, {\"var1_std\": -1.580692604628209, \"var2_std\": -0.32307604533119605}, {\"var1_std\": 0.27547556237955956, \"var2_std\": -0.3292011867885244}, {\"var1_std\": -0.2757937962083049, \"var2_std\": 1.2890564817366217}, {\"var1_std\": -0.6871780618655932, \"var2_std\": 1.4817820431465183}, {\"var1_std\": 1.3080271858263337, \"var2_std\": 0.47275950533314337}, {\"var1_std\": 0.6184232698001259, \"var2_std\": 0.08636583645291546}, {\"var1_std\": -0.8493018058634351, \"var2_std\": 1.8452766078790548}, {\"var1_std\": 0.4496659160047684, \"var2_std\": -0.043444878124754185}, {\"var1_std\": 0.5509356647029904, \"var2_std\": -1.1418166065896331}, {\"var1_std\": -0.6744147590622033, \"var2_std\": -0.4045649085291698}, {\"var1_std\": 0.48716114347060063, \"var2_std\": 0.14274807775062423}, {\"var1_std\": 1.2134341172439354, \"var2_std\": -1.2545512220641113}, {\"var1_std\": -0.760864642986062, \"var2_std\": -0.3407741335901216}, {\"var1_std\": -0.6559599216549263, \"var2_std\": 1.8972702221405067}, {\"var1_std\": -1.1401436568710666, \"var2_std\": -0.34290371643676226}, {\"var1_std\": 1.6986850047440922, \"var2_std\": -1.1121219346664526}, {\"var1_std\": 0.1735828258046495, \"var2_std\": 0.33844993332380774}, {\"var1_std\": 2.0922311333645434, \"var2_std\": -1.1953459123457655}, {\"var1_std\": -0.9640248820502106, \"var2_std\": 1.3844631873519195}, {\"var1_std\": -0.9330648974142899, \"var2_std\": 1.443291407829592}, {\"var1_std\": -1.1132449728885723, \"var2_std\": 1.3097469807880677}, {\"var1_std\": -1.0282157093715751, \"var2_std\": 1.5390474391176052}, {\"var1_std\": -1.0070089713333803, \"var2_std\": -0.20150753172133062}, {\"var1_std\": -0.7947740159234947, \"var2_std\": -0.3725239071655949}, {\"var1_std\": -0.4435090817794867, \"var2_std\": 0.8782188503678157}, {\"var1_std\": 1.4770877043635617, \"var2_std\": 0.3485640165414193}, {\"var1_std\": -0.9367616358409177, \"var2_std\": -0.3681527077896105}, {\"var1_std\": 0.9152965791965679, \"var2_std\": -1.280560774299916}, {\"var1_std\": 0.31877627741967696, \"var2_std\": 0.25467509872153143}, {\"var1_std\": -1.1072074556275424, \"var2_std\": -0.2617060818051461}, {\"var1_std\": -1.1822795331897442, \"var2_std\": -0.020932723877557933}, {\"var1_std\": -0.3726138853848799, \"var2_std\": -0.007022236664752676}, {\"var1_std\": 1.2478182789787642, \"var2_std\": -1.456194020934419}, {\"var1_std\": 1.319743642741367, \"var2_std\": -1.1317605764510437}, {\"var1_std\": -0.8349295474451514, \"var2_std\": 1.4680474739479028}, {\"var1_std\": 0.5636948020585081, \"var2_std\": 0.22486766791393598}, {\"var1_std\": 0.20826067789221112, \"var2_std\": 0.3740437862127942}, {\"var1_std\": -1.3184299541703608, \"var2_std\": -0.21539312668390045}, {\"var1_std\": 0.8407140788827158, \"var2_std\": -1.2869949631585023}, {\"var1_std\": -0.3457917844371901, \"var2_std\": 1.6084263348822745}, {\"var1_std\": -0.6117773889425779, \"var2_std\": -0.3412893854716204}, {\"var1_std\": 0.9191734801046203, \"var2_std\": -0.04221927194235099}, {\"var1_std\": -0.35763815336720084, \"var2_std\": 1.4392404153146412}, {\"var1_std\": 0.44175495557247746, \"var2_std\": 0.5581959571825679}, {\"var1_std\": 1.298149589290163, \"var2_std\": -1.0504891013081548}, {\"var1_std\": 0.7391048849272401, \"var2_std\": -1.2998538728755478}, {\"var1_std\": -1.5548184063492823, \"var2_std\": -0.3157085213974754}, {\"var1_std\": -1.1953551917658791, \"var2_std\": -0.593803169833957}, {\"var1_std\": 1.4354325908912917, \"var2_std\": -0.20723099343137885}, {\"var1_std\": 2.05693766436011, \"var2_std\": -0.8758914134539314}, {\"var1_std\": 1.1322057130754262, \"var2_std\": -1.504121470547292}, {\"var1_std\": 0.8120720968175758, \"var2_std\": -0.9899224649266107}, {\"var1_std\": 1.2876816101031834, \"var2_std\": 0.33965894573859157}, {\"var1_std\": -0.7572236182648551, \"var2_std\": 1.6156095656509457}, {\"var1_std\": -1.1343820011803007, \"var2_std\": 1.4754681344609353}, {\"var1_std\": 1.6855708699743541, \"var2_std\": -0.9354154465780223}, {\"var1_std\": 1.6005368240923268, \"var2_std\": -1.1117083536207133}, {\"var1_std\": 1.020184694601499, \"var2_std\": -0.15636520291126293}, {\"var1_std\": 1.4436307004338946, \"var2_std\": -1.2124556769033275}, {\"var1_std\": 1.3650826188252139, \"var2_std\": -1.2082959698397693}, {\"var1_std\": 1.9807750547697296, \"var2_std\": -1.0951734460065394}, {\"var1_std\": -0.9505094581626529, \"var2_std\": 1.2667187434591145}, {\"var1_std\": -0.3922368911927991, \"var2_std\": -0.20790850072444422}, {\"var1_std\": -0.8085372974973518, \"var2_std\": 1.7560328989531044}, {\"var1_std\": 0.5654457646053503, \"var2_std\": -0.02398812687589539}, {\"var1_std\": 1.4088432967426479, \"var2_std\": -1.8279448516098136}, {\"var1_std\": 1.1155072777709205, \"var2_std\": -1.0998159742010545}, {\"var1_std\": -0.6819689379682715, \"var2_std\": 1.213488774084624}, {\"var1_std\": -1.0094733661977713, \"var2_std\": 1.7942079644656868}, {\"var1_std\": -0.7771830217790233, \"var2_std\": 1.5445965393452896}, {\"var1_std\": 1.2123066412714358, \"var2_std\": -0.9221457613988664}, {\"var1_std\": 1.545774961964882, \"var2_std\": -0.9947553026647357}, {\"var1_std\": 0.27265393141710936, \"var2_std\": 0.219377475785512}, {\"var1_std\": 0.23009425619372997, \"var2_std\": 1.476378707705508}, {\"var1_std\": -1.092978397221448, \"var2_std\": -0.4703949292024077}]}}, {\"mode\": \"vega-lite\"});\n",
              "</script>"
            ],
            "text/plain": [
              "alt.Chart(...)"
            ]
          },
          "execution_count": 58,
          "metadata": {},
          "output_type": "execute_result"
        }
      ],
      "source": [
        "# create chart\n",
        "\n",
        "alt.Chart(df_std).mark_point().encode(\n",
        "    alt.X('var1_std:Q'),\n",
        "    alt.Y('var2_std:Q')\n",
        ")"
      ]
    },
    {
      "cell_type": "markdown",
      "metadata": {
        "id": "-tb6k9PpX7_4"
      },
      "source": [
        "## Algorithm"
      ]
    },
    {
      "cell_type": "code",
      "execution_count": null,
      "metadata": {
        "id": "TkCeeGYlX7_4"
      },
      "outputs": [],
      "source": [
        "# use KMeans with n_cluster=4 and n_init=10 and save it as kmeans\n",
        "kmeans = KMeans(n_clusters=4, n_init=10)"
      ]
    },
    {
      "cell_type": "code",
      "execution_count": null,
      "metadata": {
        "id": "zbYoSkzaX7_4",
        "outputId": "fbd46704-c5f4-448d-d4db-58c4e7f789ae"
      },
      "outputs": [
        {
          "data": {
            "text/html": [
              "<style>#sk-container-id-2 {color: black;background-color: white;}#sk-container-id-2 pre{padding: 0;}#sk-container-id-2 div.sk-toggleable {background-color: white;}#sk-container-id-2 label.sk-toggleable__label {cursor: pointer;display: block;width: 100%;margin-bottom: 0;padding: 0.3em;box-sizing: border-box;text-align: center;}#sk-container-id-2 label.sk-toggleable__label-arrow:before {content: \"▸\";float: left;margin-right: 0.25em;color: #696969;}#sk-container-id-2 label.sk-toggleable__label-arrow:hover:before {color: black;}#sk-container-id-2 div.sk-estimator:hover label.sk-toggleable__label-arrow:before {color: black;}#sk-container-id-2 div.sk-toggleable__content {max-height: 0;max-width: 0;overflow: hidden;text-align: left;background-color: #f0f8ff;}#sk-container-id-2 div.sk-toggleable__content pre {margin: 0.2em;color: black;border-radius: 0.25em;background-color: #f0f8ff;}#sk-container-id-2 input.sk-toggleable__control:checked~div.sk-toggleable__content {max-height: 200px;max-width: 100%;overflow: auto;}#sk-container-id-2 input.sk-toggleable__control:checked~label.sk-toggleable__label-arrow:before {content: \"▾\";}#sk-container-id-2 div.sk-estimator input.sk-toggleable__control:checked~label.sk-toggleable__label {background-color: #d4ebff;}#sk-container-id-2 div.sk-label input.sk-toggleable__control:checked~label.sk-toggleable__label {background-color: #d4ebff;}#sk-container-id-2 input.sk-hidden--visually {border: 0;clip: rect(1px 1px 1px 1px);clip: rect(1px, 1px, 1px, 1px);height: 1px;margin: -1px;overflow: hidden;padding: 0;position: absolute;width: 1px;}#sk-container-id-2 div.sk-estimator {font-family: monospace;background-color: #f0f8ff;border: 1px dotted black;border-radius: 0.25em;box-sizing: border-box;margin-bottom: 0.5em;}#sk-container-id-2 div.sk-estimator:hover {background-color: #d4ebff;}#sk-container-id-2 div.sk-parallel-item::after {content: \"\";width: 100%;border-bottom: 1px solid gray;flex-grow: 1;}#sk-container-id-2 div.sk-label:hover label.sk-toggleable__label {background-color: #d4ebff;}#sk-container-id-2 div.sk-serial::before {content: \"\";position: absolute;border-left: 1px solid gray;box-sizing: border-box;top: 0;bottom: 0;left: 50%;z-index: 0;}#sk-container-id-2 div.sk-serial {display: flex;flex-direction: column;align-items: center;background-color: white;padding-right: 0.2em;padding-left: 0.2em;position: relative;}#sk-container-id-2 div.sk-item {position: relative;z-index: 1;}#sk-container-id-2 div.sk-parallel {display: flex;align-items: stretch;justify-content: center;background-color: white;position: relative;}#sk-container-id-2 div.sk-item::before, #sk-container-id-2 div.sk-parallel-item::before {content: \"\";position: absolute;border-left: 1px solid gray;box-sizing: border-box;top: 0;bottom: 0;left: 50%;z-index: -1;}#sk-container-id-2 div.sk-parallel-item {display: flex;flex-direction: column;z-index: 1;position: relative;background-color: white;}#sk-container-id-2 div.sk-parallel-item:first-child::after {align-self: flex-end;width: 50%;}#sk-container-id-2 div.sk-parallel-item:last-child::after {align-self: flex-start;width: 50%;}#sk-container-id-2 div.sk-parallel-item:only-child::after {width: 0;}#sk-container-id-2 div.sk-dashed-wrapped {border: 1px dashed gray;margin: 0 0.4em 0.5em 0.4em;box-sizing: border-box;padding-bottom: 0.4em;background-color: white;}#sk-container-id-2 div.sk-label label {font-family: monospace;font-weight: bold;display: inline-block;line-height: 1.2em;}#sk-container-id-2 div.sk-label-container {text-align: center;}#sk-container-id-2 div.sk-container {/* jupyter's `normalize.less` sets `[hidden] { display: none; }` but bootstrap.min.css set `[hidden] { display: none !important; }` so we also need the `!important` here to be able to override the default hidden behavior on the sphinx rendered scikit-learn.org. See: https://github.com/scikit-learn/scikit-learn/issues/21755 */display: inline-block !important;position: relative;}#sk-container-id-2 div.sk-text-repr-fallback {display: none;}</style><div id=\"sk-container-id-2\" class=\"sk-top-container\"><div class=\"sk-text-repr-fallback\"><pre>KMeans(n_clusters=4, n_init=10)</pre><b>In a Jupyter environment, please rerun this cell to show the HTML representation or trust the notebook. <br />On GitHub, the HTML representation is unable to render, please try loading this page with nbviewer.org.</b></div><div class=\"sk-container\" hidden><div class=\"sk-item\"><div class=\"sk-estimator sk-toggleable\"><input class=\"sk-toggleable__control sk-hidden--visually\" id=\"sk-estimator-id-2\" type=\"checkbox\" checked><label for=\"sk-estimator-id-2\" class=\"sk-toggleable__label sk-toggleable__label-arrow\">KMeans</label><div class=\"sk-toggleable__content\"><pre>KMeans(n_clusters=4, n_init=10)</pre></div></div></div></div></div>"
            ],
            "text/plain": [
              "KMeans(n_clusters=4, n_init=10)"
            ]
          },
          "execution_count": 60,
          "metadata": {},
          "output_type": "execute_result"
        }
      ],
      "source": [
        "# fit the algorithm to the data\n",
        "kmeans.fit(X_std)"
      ]
    },
    {
      "cell_type": "code",
      "execution_count": null,
      "metadata": {
        "scrolled": true,
        "id": "CtUg5K5hX7_4"
      },
      "outputs": [],
      "source": [
        "# use predict to assign the clusternumber to the observations and save it as y_kmeans\n",
        "y_kmeans = kmeans.predict(X_std)"
      ]
    },
    {
      "cell_type": "code",
      "execution_count": null,
      "metadata": {
        "id": "4dCDsQwwX7_4",
        "outputId": "6c928a6f-256a-4ede-e3ed-a2502c3fe310"
      },
      "outputs": [
        {
          "data": {
            "text/html": [
              "<div>\n",
              "<style scoped>\n",
              "    .dataframe tbody tr th:only-of-type {\n",
              "        vertical-align: middle;\n",
              "    }\n",
              "\n",
              "    .dataframe tbody tr th {\n",
              "        vertical-align: top;\n",
              "    }\n",
              "\n",
              "    .dataframe thead th {\n",
              "        text-align: right;\n",
              "    }\n",
              "</style>\n",
              "<table border=\"1\" class=\"dataframe\">\n",
              "  <thead>\n",
              "    <tr style=\"text-align: right;\">\n",
              "      <th></th>\n",
              "      <th>var1_std</th>\n",
              "      <th>var2_std</th>\n",
              "      <th>cluster</th>\n",
              "    </tr>\n",
              "  </thead>\n",
              "  <tbody>\n",
              "    <tr>\n",
              "      <th>0</th>\n",
              "      <td>0.516255</td>\n",
              "      <td>-0.707227</td>\n",
              "      <td>3</td>\n",
              "    </tr>\n",
              "    <tr>\n",
              "      <th>1</th>\n",
              "      <td>-0.861664</td>\n",
              "      <td>1.329068</td>\n",
              "      <td>1</td>\n",
              "    </tr>\n",
              "    <tr>\n",
              "      <th>2</th>\n",
              "      <td>0.711174</td>\n",
              "      <td>0.437049</td>\n",
              "      <td>0</td>\n",
              "    </tr>\n",
              "    <tr>\n",
              "      <th>3</th>\n",
              "      <td>-0.619792</td>\n",
              "      <td>1.485573</td>\n",
              "      <td>1</td>\n",
              "    </tr>\n",
              "    <tr>\n",
              "      <th>4</th>\n",
              "      <td>0.782282</td>\n",
              "      <td>-0.801378</td>\n",
              "      <td>3</td>\n",
              "    </tr>\n",
              "    <tr>\n",
              "      <th>...</th>\n",
              "      <td>...</td>\n",
              "      <td>...</td>\n",
              "      <td>...</td>\n",
              "    </tr>\n",
              "    <tr>\n",
              "      <th>295</th>\n",
              "      <td>1.212307</td>\n",
              "      <td>-0.922146</td>\n",
              "      <td>3</td>\n",
              "    </tr>\n",
              "    <tr>\n",
              "      <th>296</th>\n",
              "      <td>1.545775</td>\n",
              "      <td>-0.994755</td>\n",
              "      <td>3</td>\n",
              "    </tr>\n",
              "    <tr>\n",
              "      <th>297</th>\n",
              "      <td>0.272654</td>\n",
              "      <td>0.219377</td>\n",
              "      <td>0</td>\n",
              "    </tr>\n",
              "    <tr>\n",
              "      <th>298</th>\n",
              "      <td>0.230094</td>\n",
              "      <td>1.476379</td>\n",
              "      <td>1</td>\n",
              "    </tr>\n",
              "    <tr>\n",
              "      <th>299</th>\n",
              "      <td>-1.092978</td>\n",
              "      <td>-0.470395</td>\n",
              "      <td>2</td>\n",
              "    </tr>\n",
              "  </tbody>\n",
              "</table>\n",
              "<p>300 rows × 3 columns</p>\n",
              "</div>"
            ],
            "text/plain": [
              "     var1_std  var2_std  cluster\n",
              "0    0.516255 -0.707227        3\n",
              "1   -0.861664  1.329068        1\n",
              "2    0.711174  0.437049        0\n",
              "3   -0.619792  1.485573        1\n",
              "4    0.782282 -0.801378        3\n",
              "..        ...       ...      ...\n",
              "295  1.212307 -0.922146        3\n",
              "296  1.545775 -0.994755        3\n",
              "297  0.272654  0.219377        0\n",
              "298  0.230094  1.476379        1\n",
              "299 -1.092978 -0.470395        2\n",
              "\n",
              "[300 rows x 3 columns]"
            ]
          },
          "execution_count": 67,
          "metadata": {},
          "output_type": "execute_result"
        }
      ],
      "source": [
        "# assign y_kmeans to our pandas dataframe\n",
        "df_std['cluster'] = y_kmeans\n",
        "df_std"
      ]
    },
    {
      "cell_type": "markdown",
      "metadata": {
        "id": "p9szQNksX7_5"
      },
      "source": [
        "Let's visualize the results by plotting the data colored by these labels.\n",
        "We will also plot the cluster centers as determined by the *k*-means estimator:"
      ]
    },
    {
      "cell_type": "code",
      "execution_count": null,
      "metadata": {
        "id": "ZkwP59MBX7_5",
        "outputId": "3fc47546-e4ab-4c05-fde6-15d0b57ef52c"
      },
      "outputs": [
        {
          "data": {
            "text/html": [
              "<div>\n",
              "<style scoped>\n",
              "    .dataframe tbody tr th:only-of-type {\n",
              "        vertical-align: middle;\n",
              "    }\n",
              "\n",
              "    .dataframe tbody tr th {\n",
              "        vertical-align: top;\n",
              "    }\n",
              "\n",
              "    .dataframe thead th {\n",
              "        text-align: right;\n",
              "    }\n",
              "</style>\n",
              "<table border=\"1\" class=\"dataframe\">\n",
              "  <thead>\n",
              "    <tr style=\"text-align: right;\">\n",
              "      <th></th>\n",
              "      <th>var1_center</th>\n",
              "      <th>var2_center</th>\n",
              "    </tr>\n",
              "  </thead>\n",
              "  <tbody>\n",
              "    <tr>\n",
              "      <th>0</th>\n",
              "      <td>0.585367</td>\n",
              "      <td>0.174252</td>\n",
              "    </tr>\n",
              "    <tr>\n",
              "      <th>1</th>\n",
              "      <td>-0.836919</td>\n",
              "      <td>1.461930</td>\n",
              "    </tr>\n",
              "    <tr>\n",
              "      <th>2</th>\n",
              "      <td>-0.966194</td>\n",
              "      <td>-0.439061</td>\n",
              "    </tr>\n",
              "    <tr>\n",
              "      <th>3</th>\n",
              "      <td>1.217747</td>\n",
              "      <td>-1.197121</td>\n",
              "    </tr>\n",
              "  </tbody>\n",
              "</table>\n",
              "</div>"
            ],
            "text/plain": [
              "   var1_center  var2_center\n",
              "0     0.585367     0.174252\n",
              "1    -0.836919     1.461930\n",
              "2    -0.966194    -0.439061\n",
              "3     1.217747    -1.197121"
            ]
          },
          "execution_count": 70,
          "metadata": {},
          "output_type": "execute_result"
        }
      ],
      "source": [
        "# Create a DataFrame with the cluster centers data\n",
        "centers_data = pd.DataFrame(kmeans.cluster_centers_, columns=['var1_center', 'var2_center'])\n",
        "centers_data"
      ]
    },
    {
      "cell_type": "code",
      "execution_count": null,
      "metadata": {
        "id": "RsKLY2Q8X7_5",
        "outputId": "ec1e3982-9389-4b37-8cf9-e12e2522fe97"
      },
      "outputs": [
        {
          "data": {
            "text/html": [
              "\n",
              "<div id=\"altair-viz-14a9ccdda26546e4b1bdbbac235af3df\"></div>\n",
              "<script type=\"text/javascript\">\n",
              "  var VEGA_DEBUG = (typeof VEGA_DEBUG == \"undefined\") ? {} : VEGA_DEBUG;\n",
              "  (function(spec, embedOpt){\n",
              "    let outputDiv = document.currentScript.previousElementSibling;\n",
              "    if (outputDiv.id !== \"altair-viz-14a9ccdda26546e4b1bdbbac235af3df\") {\n",
              "      outputDiv = document.getElementById(\"altair-viz-14a9ccdda26546e4b1bdbbac235af3df\");\n",
              "    }\n",
              "    const paths = {\n",
              "      \"vega\": \"https://cdn.jsdelivr.net/npm//vega@5?noext\",\n",
              "      \"vega-lib\": \"https://cdn.jsdelivr.net/npm//vega-lib?noext\",\n",
              "      \"vega-lite\": \"https://cdn.jsdelivr.net/npm//vega-lite@4.17.0?noext\",\n",
              "      \"vega-embed\": \"https://cdn.jsdelivr.net/npm//vega-embed@6?noext\",\n",
              "    };\n",
              "\n",
              "    function maybeLoadScript(lib, version) {\n",
              "      var key = `${lib.replace(\"-\", \"\")}_version`;\n",
              "      return (VEGA_DEBUG[key] == version) ?\n",
              "        Promise.resolve(paths[lib]) :\n",
              "        new Promise(function(resolve, reject) {\n",
              "          var s = document.createElement('script');\n",
              "          document.getElementsByTagName(\"head\")[0].appendChild(s);\n",
              "          s.async = true;\n",
              "          s.onload = () => {\n",
              "            VEGA_DEBUG[key] = version;\n",
              "            return resolve(paths[lib]);\n",
              "          };\n",
              "          s.onerror = () => reject(`Error loading script: ${paths[lib]}`);\n",
              "          s.src = paths[lib];\n",
              "        });\n",
              "    }\n",
              "\n",
              "    function showError(err) {\n",
              "      outputDiv.innerHTML = `<div class=\"error\" style=\"color:red;\">${err}</div>`;\n",
              "      throw err;\n",
              "    }\n",
              "\n",
              "    function displayChart(vegaEmbed) {\n",
              "      vegaEmbed(outputDiv, spec, embedOpt)\n",
              "        .catch(err => showError(`Javascript Error: ${err.message}<br>This usually means there's a typo in your chart specification. See the javascript console for the full traceback.`));\n",
              "    }\n",
              "\n",
              "    if(typeof define === \"function\" && define.amd) {\n",
              "      requirejs.config({paths});\n",
              "      require([\"vega-embed\"], displayChart, err => showError(`Error loading script: ${err.message}`));\n",
              "    } else {\n",
              "      maybeLoadScript(\"vega\", \"5\")\n",
              "        .then(() => maybeLoadScript(\"vega-lite\", \"4.17.0\"))\n",
              "        .then(() => maybeLoadScript(\"vega-embed\", \"6\"))\n",
              "        .catch(showError)\n",
              "        .then(() => displayChart(vegaEmbed));\n",
              "    }\n",
              "  })({\"config\": {\"view\": {\"continuousWidth\": 400, \"continuousHeight\": 300}}, \"layer\": [{\"data\": {\"name\": \"data-51198bce3652944361896adc22888d42\"}, \"mark\": {\"type\": \"circle\", \"size\": 50}, \"encoding\": {\"color\": {\"field\": \"cluster\", \"scale\": {\"scheme\": \"viridis\"}, \"type\": \"nominal\"}, \"x\": {\"field\": \"var1_std\", \"type\": \"quantitative\"}, \"y\": {\"field\": \"var2_std\", \"type\": \"quantitative\"}}}, {\"data\": {\"name\": \"data-ac8c2c359a5b6ac5a62ab2387abccc28\"}, \"mark\": {\"type\": \"circle\", \"color\": \"black\", \"opacity\": 0.5, \"size\": 200}, \"encoding\": {\"x\": {\"field\": \"var1_center\", \"type\": \"quantitative\"}, \"y\": {\"field\": \"var2_center\", \"type\": \"quantitative\"}}}], \"$schema\": \"https://vega.github.io/schema/vega-lite/v4.17.0.json\", \"datasets\": {\"data-51198bce3652944361896adc22888d42\": [{\"var1_std\": 0.516255078471987, \"var2_std\": -0.7072272278864006, \"cluster\": 3}, {\"var1_std\": -0.8616637606845958, \"var2_std\": 1.3290676986909944, \"cluster\": 1}, {\"var1_std\": 0.7111744362508299, \"var2_std\": 0.4370489592900326, \"cluster\": 0}, {\"var1_std\": -0.6197922225677518, \"var2_std\": 1.485572828416575, \"cluster\": 1}, {\"var1_std\": 0.7822823077779124, \"var2_std\": -0.8013783954856287, \"cluster\": 3}, {\"var1_std\": 2.1086182776480533, \"var2_std\": -1.431153208202017, \"cluster\": 3}, {\"var1_std\": -1.1032430336400916, \"var2_std\": -0.9154965610559462, \"cluster\": 2}, {\"var1_std\": 0.8694527785234681, \"var2_std\": 0.15961937977297588, \"cluster\": 0}, {\"var1_std\": -0.12159925382280043, \"var2_std\": 1.723900478088259, \"cluster\": 1}, {\"var1_std\": -0.431509507642618, \"var2_std\": 1.8120757091293962, \"cluster\": 1}, {\"var1_std\": -1.044557216322371, \"var2_std\": -0.4595311268285412, \"cluster\": 2}, {\"var1_std\": -1.6308868664609029, \"var2_std\": 1.693701161839773, \"cluster\": 1}, {\"var1_std\": 0.7646713960042317, \"var2_std\": 0.20704489508407842, \"cluster\": 0}, {\"var1_std\": -1.3601593408925203, \"var2_std\": 1.1302661154344613, \"cluster\": 1}, {\"var1_std\": 0.894809192809574, \"var2_std\": -1.5434674862106357, \"cluster\": 3}, {\"var1_std\": 0.2817165100335377, \"var2_std\": -0.004380289597347031, \"cluster\": 0}, {\"var1_std\": 0.6585350108461984, \"var2_std\": 0.2173524862695809, \"cluster\": 0}, {\"var1_std\": 1.5770153593919334, \"var2_std\": -1.3363931410330907, \"cluster\": 3}, {\"var1_std\": -0.6493585261980992, \"var2_std\": -0.3228881367890802, \"cluster\": 2}, {\"var1_std\": -0.6565128246421679, \"var2_std\": -0.680908511353755, \"cluster\": 2}, {\"var1_std\": 1.6662212454768621, \"var2_std\": -1.0337353874198463, \"cluster\": 3}, {\"var1_std\": 1.0919421950173778, \"var2_std\": -1.0739994748151966, \"cluster\": 3}, {\"var1_std\": 0.4535019114496915, \"var2_std\": 0.41296662437422804, \"cluster\": 0}, {\"var1_std\": -1.2185080301045215, \"var2_std\": -0.43101499539047217, \"cluster\": 2}, {\"var1_std\": -1.1706278365584801, \"var2_std\": -0.5261943763403102, \"cluster\": 2}, {\"var1_std\": -0.33625538496852164, \"var2_std\": 0.2811736594194682, \"cluster\": 0}, {\"var1_std\": 1.0431867611029966, \"var2_std\": -1.1977346980070835, \"cluster\": 3}, {\"var1_std\": 0.3680283584532841, \"var2_std\": 0.28645965967600034, \"cluster\": 0}, {\"var1_std\": -1.7596068570560297, \"var2_std\": -0.6423460091297343, \"cluster\": 2}, {\"var1_std\": 0.11820038186840971, \"var2_std\": 0.022789173529247895, \"cluster\": 0}, {\"var1_std\": -0.31042355811549355, \"var2_std\": 1.5085332052694462, \"cluster\": 1}, {\"var1_std\": -1.2555683343049686, \"var2_std\": 1.3170554906808127, \"cluster\": 1}, {\"var1_std\": 1.1504796841549019, \"var2_std\": 0.08220129527125697, \"cluster\": 0}, {\"var1_std\": -0.6887321822681498, \"var2_std\": 1.0807313354954806, \"cluster\": 1}, {\"var1_std\": -1.0028720877874981, \"var2_std\": 1.5342424913943125, \"cluster\": 1}, {\"var1_std\": -1.477409779057245, \"var2_std\": 1.3406143928225662, \"cluster\": 1}, {\"var1_std\": -1.2305010009365218, \"var2_std\": 1.3578663560374846, \"cluster\": 1}, {\"var1_std\": -1.6011428019911302, \"var2_std\": 1.5517736295968572, \"cluster\": 1}, {\"var1_std\": -1.3449524392858707, \"var2_std\": -0.5747313272768023, \"cluster\": 2}, {\"var1_std\": 1.022579816189421, \"var2_std\": -1.2761362960419989, \"cluster\": 3}, {\"var1_std\": 0.4139635171762042, \"var2_std\": -0.14380893080504234, \"cluster\": 0}, {\"var1_std\": -1.2117172777571357, \"var2_std\": -0.7385644432581545, \"cluster\": 2}, {\"var1_std\": -0.025203659622922547, \"var2_std\": 0.581715473464167, \"cluster\": 0}, {\"var1_std\": 0.9495967595936684, \"var2_std\": 0.09382026237538896, \"cluster\": 0}, {\"var1_std\": -1.0382102910681847, \"var2_std\": -0.5818708137229788, \"cluster\": 2}, {\"var1_std\": -0.6218181802665945, \"var2_std\": -0.46323633828181987, \"cluster\": 2}, {\"var1_std\": -0.8400919713739199, \"var2_std\": 1.5967008992237952, \"cluster\": 1}, {\"var1_std\": -0.9464927848162247, \"var2_std\": -0.47190827602926533, \"cluster\": 2}, {\"var1_std\": -0.9016968792087989, \"var2_std\": 1.390672915401381, \"cluster\": 1}, {\"var1_std\": 1.2216409315936436, \"var2_std\": -0.9491886255121623, \"cluster\": 3}, {\"var1_std\": -1.189880002776898, \"var2_std\": -0.18689193360562847, \"cluster\": 2}, {\"var1_std\": 1.5070523740182502, \"var2_std\": -1.2923006672927495, \"cluster\": 3}, {\"var1_std\": -0.5436943604577461, \"var2_std\": 1.409203071335092, \"cluster\": 1}, {\"var1_std\": 1.0428186542217872, \"var2_std\": -1.2406799746954489, \"cluster\": 3}, {\"var1_std\": 1.0792915784849555, \"var2_std\": -0.73849666727124, \"cluster\": 3}, {\"var1_std\": -0.6761354764327543, \"var2_std\": -0.44241060338138105, \"cluster\": 2}, {\"var1_std\": -0.021536007523878464, \"var2_std\": 1.4831740796627315, \"cluster\": 1}, {\"var1_std\": -0.6946720278221724, \"var2_std\": -0.7693406382901334, \"cluster\": 2}, {\"var1_std\": -1.1020963472085552, \"var2_std\": 1.452128720037853, \"cluster\": 1}, {\"var1_std\": 0.8565419403628368, \"var2_std\": -1.1734689668817373, \"cluster\": 3}, {\"var1_std\": -1.3780070911017195, \"var2_std\": 1.2875383058908563, \"cluster\": 1}, {\"var1_std\": 0.3538898910504229, \"var2_std\": 0.13710988496196808, \"cluster\": 0}, {\"var1_std\": -0.9451083918964834, \"var2_std\": 2.0524545210347864, \"cluster\": 1}, {\"var1_std\": -0.6317778651856467, \"var2_std\": -0.39178596490229567, \"cluster\": 2}, {\"var1_std\": -1.2877465373463457, \"var2_std\": -0.33249773522664455, \"cluster\": 2}, {\"var1_std\": -0.7226003454088928, \"var2_std\": -0.4570308004775462, \"cluster\": 2}, {\"var1_std\": -1.5011422244555503, \"var2_std\": 1.3685187937574623, \"cluster\": 1}, {\"var1_std\": 1.4547063562446583, \"var2_std\": -1.1650684813792183, \"cluster\": 3}, {\"var1_std\": -1.6288983092829554, \"var2_std\": 1.4982177985293224, \"cluster\": 1}, {\"var1_std\": -0.9128181169880971, \"var2_std\": -0.29102020000773415, \"cluster\": 2}, {\"var1_std\": 0.8134303272187663, \"var2_std\": 0.08147366611618426, \"cluster\": 0}, {\"var1_std\": -0.2944665402585691, \"var2_std\": -0.246844658704775, \"cluster\": 2}, {\"var1_std\": -0.6311628959815754, \"var2_std\": 1.5813726363712313, \"cluster\": 1}, {\"var1_std\": -0.978796854643821, \"var2_std\": -0.38367031494364034, \"cluster\": 2}, {\"var1_std\": -0.9168092842371519, \"var2_std\": -0.7892874587512241, \"cluster\": 2}, {\"var1_std\": -0.47700874976598406, \"var2_std\": 1.7320200198508913, \"cluster\": 1}, {\"var1_std\": -1.0723904525193173, \"var2_std\": -0.38357801783932993, \"cluster\": 2}, {\"var1_std\": 0.7325284754242025, \"var2_std\": 0.2934428495122026, \"cluster\": 0}, {\"var1_std\": 1.3143973012157588, \"var2_std\": -1.2595413132115256, \"cluster\": 3}, {\"var1_std\": -0.6300690484726553, \"var2_std\": 1.636434652720858, \"cluster\": 1}, {\"var1_std\": 0.7720947936500167, \"var2_std\": -1.497579906913527, \"cluster\": 3}, {\"var1_std\": 0.36858821091869787, \"var2_std\": 0.045690480770154245, \"cluster\": 0}, {\"var1_std\": 0.7873041106528795, \"var2_std\": -1.1236814892414684, \"cluster\": 3}, {\"var1_std\": 1.0628231451835812, \"var2_std\": -1.0891594615825357, \"cluster\": 3}, {\"var1_std\": -0.5771938385822178, \"var2_std\": 1.7363140572205025, \"cluster\": 1}, {\"var1_std\": 0.5765440765267968, \"var2_std\": 0.5267040465931688, \"cluster\": 0}, {\"var1_std\": 1.454480663158627, \"var2_std\": -1.2253012766995919, \"cluster\": 3}, {\"var1_std\": 0.2662781381215439, \"var2_std\": 0.3885395408589388, \"cluster\": 0}, {\"var1_std\": -1.2497957095619885, \"var2_std\": 1.037390466479414, \"cluster\": 1}, {\"var1_std\": -0.888032972954377, \"var2_std\": 1.358830829761567, \"cluster\": 1}, {\"var1_std\": 0.32801953898689534, \"var2_std\": -0.06174483435364134, \"cluster\": 0}, {\"var1_std\": 1.0949043994262493, \"var2_std\": -1.1815054428044542, \"cluster\": 3}, {\"var1_std\": -1.1935697482284702, \"var2_std\": 1.795037952971654, \"cluster\": 1}, {\"var1_std\": -1.0649748071224898, \"var2_std\": -0.36913145045209234, \"cluster\": 2}, {\"var1_std\": -0.7184744338128695, \"var2_std\": -0.3244261967221559, \"cluster\": 2}, {\"var1_std\": 0.7166222255313017, \"var2_std\": -0.06815280697028646, \"cluster\": 0}, {\"var1_std\": 0.8375129766059802, \"var2_std\": -1.0045573078590597, \"cluster\": 3}, {\"var1_std\": 1.596613440126178, \"var2_std\": -1.1120580793903057, \"cluster\": 3}, {\"var1_std\": 0.17065364964242447, \"var2_std\": 0.5800578950385475, \"cluster\": 0}, {\"var1_std\": -1.9078766782564518, \"var2_std\": -0.2649587638254175, \"cluster\": 2}, {\"var1_std\": -0.3561916723643144, \"var2_std\": 1.7942487844808546, \"cluster\": 1}, {\"var1_std\": 1.0258089848953365, \"var2_std\": -1.700701607055288, \"cluster\": 3}, {\"var1_std\": -0.4141671883981396, \"var2_std\": 1.4315067560916428, \"cluster\": 1}, {\"var1_std\": 1.4536681400596216, \"var2_std\": -1.3189611298445783, \"cluster\": 3}, {\"var1_std\": 0.648235924302586, \"var2_std\": 0.22287299302138167, \"cluster\": 0}, {\"var1_std\": 1.3674407417660865, \"var2_std\": -1.044490540403763, \"cluster\": 3}, {\"var1_std\": 1.4974085775084418, \"var2_std\": -1.5601922145409688, \"cluster\": 3}, {\"var1_std\": 0.8272021579069978, \"var2_std\": 0.3434035668930388, \"cluster\": 0}, {\"var1_std\": -0.8009826641396175, \"var2_std\": 1.1087344253697153, \"cluster\": 1}, {\"var1_std\": 0.6054706750238, \"var2_std\": 0.5435082049232061, \"cluster\": 0}, {\"var1_std\": -0.6469376925726313, \"var2_std\": -0.6797351463292879, \"cluster\": 2}, {\"var1_std\": -0.9801173723235396, \"var2_std\": -0.15573317999111322, \"cluster\": 2}, {\"var1_std\": 0.9671079154321364, \"var2_std\": -1.3453189149110625, \"cluster\": 3}, {\"var1_std\": -1.3299603675038298, \"var2_std\": 1.590196257625615, \"cluster\": 1}, {\"var1_std\": 1.1266262619083922, \"var2_std\": -1.2410176547798883, \"cluster\": 3}, {\"var1_std\": 1.293409405273397, \"var2_std\": -0.1825310149843047, \"cluster\": 0}, {\"var1_std\": -1.0023198144813272, \"var2_std\": 1.3743622393173247, \"cluster\": 1}, {\"var1_std\": 0.6807394999765444, \"var2_std\": -1.0441347658595843, \"cluster\": 3}, {\"var1_std\": 0.990562687921222, \"var2_std\": -0.8280499565337572, \"cluster\": 3}, {\"var1_std\": 0.2852326921819171, \"var2_std\": 0.5722831595518416, \"cluster\": 0}, {\"var1_std\": -0.3255402270909262, \"var2_std\": -0.3673882173906291, \"cluster\": 2}, {\"var1_std\": 1.0315144101942206, \"var2_std\": -1.2970057284849177, \"cluster\": 3}, {\"var1_std\": -0.6158328931413021, \"var2_std\": -0.14105357726723505, \"cluster\": 2}, {\"var1_std\": 0.8255087867989653, \"var2_std\": -1.302980907216429, \"cluster\": 3}, {\"var1_std\": 0.8782639834822544, \"var2_std\": -0.9049416655269132, \"cluster\": 3}, {\"var1_std\": 1.2559966169813739, \"var2_std\": -1.0977085323168159, \"cluster\": 3}, {\"var1_std\": 1.0280797815214182, \"var2_std\": -1.2776002325234879, \"cluster\": 3}, {\"var1_std\": -0.8279773093340297, \"var2_std\": -0.6355381274138263, \"cluster\": 2}, {\"var1_std\": 0.6962205984018816, \"var2_std\": -1.170897892246265, \"cluster\": 3}, {\"var1_std\": -1.060837663186879, \"var2_std\": -0.7799639311750519, \"cluster\": 2}, {\"var1_std\": -0.20445553031796482, \"var2_std\": 1.6216632001586198, \"cluster\": 1}, {\"var1_std\": -0.9989821326965886, \"var2_std\": -0.592564887764091, \"cluster\": 2}, {\"var1_std\": -1.0293554867196577, \"var2_std\": -0.6667906330708853, \"cluster\": 2}, {\"var1_std\": 1.4919348717852705, \"var2_std\": -1.5567403660302959, \"cluster\": 3}, {\"var1_std\": -0.8410439719899343, \"var2_std\": 1.2423431005916448, \"cluster\": 1}, {\"var1_std\": -0.7629640090884445, \"var2_std\": -0.6289321973181503, \"cluster\": 2}, {\"var1_std\": -1.4624010009265438, \"var2_std\": -0.22001537090746728, \"cluster\": 2}, {\"var1_std\": -1.2768890430656978, \"var2_std\": 1.3567944431054588, \"cluster\": 1}, {\"var1_std\": 0.3028951873156888, \"var2_std\": -0.27023217165705743, \"cluster\": 0}, {\"var1_std\": -0.3264008068972766, \"var2_std\": 1.3470990026976521, \"cluster\": 1}, {\"var1_std\": -1.583136244548306, \"var2_std\": 1.586530932697588, \"cluster\": 1}, {\"var1_std\": -0.6369043942345017, \"var2_std\": -0.38730628168653025, \"cluster\": 2}, {\"var1_std\": 0.7726795733772156, \"var2_std\": -0.22620153435917853, \"cluster\": 0}, {\"var1_std\": -0.9889213451731605, \"var2_std\": 0.11742785590580407, \"cluster\": 2}, {\"var1_std\": 1.1483391162207583, \"var2_std\": 0.5689987349114818, \"cluster\": 0}, {\"var1_std\": -1.0761923347113207, \"var2_std\": -0.674067913210046, \"cluster\": 2}, {\"var1_std\": -0.8421698056847666, \"var2_std\": 1.2819526897477844, \"cluster\": 1}, {\"var1_std\": 0.008730332019388193, \"var2_std\": 0.08044459710044558, \"cluster\": 0}, {\"var1_std\": -0.6714484874011661, \"var2_std\": 1.2875964841099172, \"cluster\": 1}, {\"var1_std\": -1.0942373001671635, \"var2_std\": 1.3951952037141655, \"cluster\": 1}, {\"var1_std\": -0.9217342510735521, \"var2_std\": 1.53552131389779, \"cluster\": 1}, {\"var1_std\": 0.5912603272865227, \"var2_std\": 0.22897636068464278, \"cluster\": 0}, {\"var1_std\": -0.3643055863286978, \"var2_std\": 0.9005620069705117, \"cluster\": 1}, {\"var1_std\": 0.14138528464107242, \"var2_std\": 0.3098738470783332, \"cluster\": 0}, {\"var1_std\": 0.9634509859514406, \"var2_std\": -1.5253151085828092, \"cluster\": 3}, {\"var1_std\": -0.6291821332882115, \"var2_std\": -0.40421232842980803, \"cluster\": 2}, {\"var1_std\": -0.5608015991916773, \"var2_std\": 1.5952295823828477, \"cluster\": 1}, {\"var1_std\": -1.1509227190318494, \"var2_std\": -0.6639838271581318, \"cluster\": 2}, {\"var1_std\": 1.14804181320246, \"var2_std\": -1.1629883255976747, \"cluster\": 3}, {\"var1_std\": 0.6781254711147243, \"var2_std\": 0.3560151507027868, \"cluster\": 0}, {\"var1_std\": -1.1791120834930766, \"var2_std\": 1.6753754756596364, \"cluster\": 1}, {\"var1_std\": 0.4143870681197705, \"var2_std\": 0.028236340112858912, \"cluster\": 0}, {\"var1_std\": 0.45932463009401003, \"var2_std\": 0.05969362287970539, \"cluster\": 0}, {\"var1_std\": 1.0080171632998172, \"var2_std\": -0.8295878266367589, \"cluster\": 3}, {\"var1_std\": 0.5031594046633789, \"var2_std\": 0.31565829730181033, \"cluster\": 0}, {\"var1_std\": -1.6080724200887464, \"var2_std\": -0.5161817031297645, \"cluster\": 2}, {\"var1_std\": -0.5845623345202596, \"var2_std\": -1.0402019076206557, \"cluster\": 2}, {\"var1_std\": 0.13488680227172956, \"var2_std\": 0.35433715580404873, \"cluster\": 0}, {\"var1_std\": 0.8823088201648419, \"var2_std\": -1.0276347350858428, \"cluster\": 3}, {\"var1_std\": 0.7470907793539199, \"var2_std\": -0.12351944101966336, \"cluster\": 0}, {\"var1_std\": 0.6667928135005685, \"var2_std\": 0.036645249411823795, \"cluster\": 0}, {\"var1_std\": -0.7467987142699674, \"var2_std\": 1.6714239296682836, \"cluster\": 1}, {\"var1_std\": 0.9110723894733975, \"var2_std\": -1.265716702903488, \"cluster\": 3}, {\"var1_std\": 1.164696604766221, \"var2_std\": 0.47017473612873334, \"cluster\": 0}, {\"var1_std\": -0.8065004992587058, \"var2_std\": 0.0628225256522139, \"cluster\": 2}, {\"var1_std\": -0.7001722154011609, \"var2_std\": 1.515823475180491, \"cluster\": 1}, {\"var1_std\": 1.5156615081744775, \"var2_std\": -0.8839269161826799, \"cluster\": 3}, {\"var1_std\": 1.4188400643808667, \"var2_std\": -1.0287205592345399, \"cluster\": 3}, {\"var1_std\": 0.35457766895191856, \"var2_std\": 0.04642911825770909, \"cluster\": 0}, {\"var1_std\": -0.588675937074919, \"var2_std\": -0.32667117732180495, \"cluster\": 2}, {\"var1_std\": 1.6110293813356202, \"var2_std\": -1.1652702499967764, \"cluster\": 3}, {\"var1_std\": 1.0346509597730191, \"var2_std\": 0.08804769735072464, \"cluster\": 0}, {\"var1_std\": -1.3561677671803178, \"var2_std\": -0.4777944437150785, \"cluster\": 2}, {\"var1_std\": -0.9625682485674841, \"var2_std\": -0.36042233284440395, \"cluster\": 2}, {\"var1_std\": 0.053783572469823133, \"var2_std\": 0.23153884317896725, \"cluster\": 0}, {\"var1_std\": 0.881188918640798, \"var2_std\": 0.15792619372216274, \"cluster\": 0}, {\"var1_std\": 0.6545293604923227, \"var2_std\": 0.4666795902148012, \"cluster\": 0}, {\"var1_std\": 0.47380403997864656, \"var2_std\": 0.16595989683309825, \"cluster\": 0}, {\"var1_std\": 1.516293584477551, \"var2_std\": -1.0245869038801396, \"cluster\": 3}, {\"var1_std\": -1.0563488900289908, \"var2_std\": 1.2344017615511604, \"cluster\": 1}, {\"var1_std\": 0.2164159647584033, \"var2_std\": -0.19927287201218394, \"cluster\": 0}, {\"var1_std\": -0.6092538856709531, \"var2_std\": -0.4321081610037647, \"cluster\": 2}, {\"var1_std\": 0.626049207406114, \"var2_std\": 0.1998155186459655, \"cluster\": 0}, {\"var1_std\": 0.346456269108423, \"var2_std\": 0.0950657389277949, \"cluster\": 0}, {\"var1_std\": -1.293038800619928, \"var2_std\": -0.7464520828749817, \"cluster\": 2}, {\"var1_std\": -0.8301540506507551, \"var2_std\": -0.6118571534551827, \"cluster\": 2}, {\"var1_std\": -1.7004760131735068, \"var2_std\": -0.3767731267645686, \"cluster\": 2}, {\"var1_std\": 1.015495419354559, \"var2_std\": -0.12047731524939026, \"cluster\": 0}, {\"var1_std\": -1.1836853182173672, \"var2_std\": -0.686731517085656, \"cluster\": 2}, {\"var1_std\": -1.107317276722509, \"var2_std\": 1.5486732871279183, \"cluster\": 1}, {\"var1_std\": 0.7398974179265788, \"var2_std\": -0.12498820660633311, \"cluster\": 0}, {\"var1_std\": -0.5895367602609941, \"var2_std\": -0.2705413848799315, \"cluster\": 2}, {\"var1_std\": 1.1487299547067746, \"var2_std\": -1.573873152354629, \"cluster\": 3}, {\"var1_std\": -1.1025014634301655, \"var2_std\": -0.7337254568030493, \"cluster\": 2}, {\"var1_std\": 0.7494179847075532, \"var2_std\": -0.028930551142423343, \"cluster\": 0}, {\"var1_std\": -0.9045415662747361, \"var2_std\": 0.7877372833485639, \"cluster\": 1}, {\"var1_std\": -0.9536397740134293, \"var2_std\": -0.4303004497104932, \"cluster\": 2}, {\"var1_std\": -0.41627057070625234, \"var2_std\": 1.8207325932006677, \"cluster\": 1}, {\"var1_std\": 0.6628427109343137, \"var2_std\": 0.2768671497138359, \"cluster\": 0}, {\"var1_std\": -0.5936914171807633, \"var2_std\": 1.0695689456686608, \"cluster\": 1}, {\"var1_std\": 0.8485882176192194, \"var2_std\": 0.2241409252419176, \"cluster\": 0}, {\"var1_std\": -1.0010392888328217, \"var2_std\": -0.49692236222180936, \"cluster\": 2}, {\"var1_std\": 0.002742165082038257, \"var2_std\": 0.23695826480194584, \"cluster\": 0}, {\"var1_std\": 1.0535741298857446, \"var2_std\": 0.40831765818968785, \"cluster\": 0}, {\"var1_std\": -0.8565114907301422, \"var2_std\": 1.451281722808167, \"cluster\": 1}, {\"var1_std\": -0.42972492530485884, \"var2_std\": -0.565178967289317, \"cluster\": 2}, {\"var1_std\": -0.5384720131183992, \"var2_std\": -0.510484795639387, \"cluster\": 2}, {\"var1_std\": 1.2188403965789103, \"var2_std\": -1.3431475893035967, \"cluster\": 3}, {\"var1_std\": 1.8112645134210974, \"var2_std\": -1.6651557406907003, \"cluster\": 3}, {\"var1_std\": 0.2683073889649304, \"var2_std\": 0.14177034679586883, \"cluster\": 0}, {\"var1_std\": -1.138751174842064, \"var2_std\": 1.4124271790134575, \"cluster\": 1}, {\"var1_std\": 1.551115439032397, \"var2_std\": -1.2936211558954704, \"cluster\": 3}, {\"var1_std\": 1.2533127842226823, \"var2_std\": -1.3565516411296004, \"cluster\": 3}, {\"var1_std\": -1.5760462721119897, \"var2_std\": -0.3009603548302802, \"cluster\": 2}, {\"var1_std\": 0.9956931105813381, \"var2_std\": -1.5060706232572267, \"cluster\": 3}, {\"var1_std\": -1.580692604628209, \"var2_std\": -0.32307604533119605, \"cluster\": 2}, {\"var1_std\": 0.27547556237955956, \"var2_std\": -0.3292011867885244, \"cluster\": 0}, {\"var1_std\": -0.2757937962083049, \"var2_std\": 1.2890564817366217, \"cluster\": 1}, {\"var1_std\": -0.6871780618655932, \"var2_std\": 1.4817820431465183, \"cluster\": 1}, {\"var1_std\": 1.3080271858263337, \"var2_std\": 0.47275950533314337, \"cluster\": 0}, {\"var1_std\": 0.6184232698001259, \"var2_std\": 0.08636583645291546, \"cluster\": 0}, {\"var1_std\": -0.8493018058634351, \"var2_std\": 1.8452766078790548, \"cluster\": 1}, {\"var1_std\": 0.4496659160047684, \"var2_std\": -0.043444878124754185, \"cluster\": 0}, {\"var1_std\": 0.5509356647029904, \"var2_std\": -1.1418166065896331, \"cluster\": 3}, {\"var1_std\": -0.6744147590622033, \"var2_std\": -0.4045649085291698, \"cluster\": 2}, {\"var1_std\": 0.48716114347060063, \"var2_std\": 0.14274807775062423, \"cluster\": 0}, {\"var1_std\": 1.2134341172439354, \"var2_std\": -1.2545512220641113, \"cluster\": 3}, {\"var1_std\": -0.760864642986062, \"var2_std\": -0.3407741335901216, \"cluster\": 2}, {\"var1_std\": -0.6559599216549263, \"var2_std\": 1.8972702221405067, \"cluster\": 1}, {\"var1_std\": -1.1401436568710666, \"var2_std\": -0.34290371643676226, \"cluster\": 2}, {\"var1_std\": 1.6986850047440922, \"var2_std\": -1.1121219346664526, \"cluster\": 3}, {\"var1_std\": 0.1735828258046495, \"var2_std\": 0.33844993332380774, \"cluster\": 0}, {\"var1_std\": 2.0922311333645434, \"var2_std\": -1.1953459123457655, \"cluster\": 3}, {\"var1_std\": -0.9640248820502106, \"var2_std\": 1.3844631873519195, \"cluster\": 1}, {\"var1_std\": -0.9330648974142899, \"var2_std\": 1.443291407829592, \"cluster\": 1}, {\"var1_std\": -1.1132449728885723, \"var2_std\": 1.3097469807880677, \"cluster\": 1}, {\"var1_std\": -1.0282157093715751, \"var2_std\": 1.5390474391176052, \"cluster\": 1}, {\"var1_std\": -1.0070089713333803, \"var2_std\": -0.20150753172133062, \"cluster\": 2}, {\"var1_std\": -0.7947740159234947, \"var2_std\": -0.3725239071655949, \"cluster\": 2}, {\"var1_std\": -0.4435090817794867, \"var2_std\": 0.8782188503678157, \"cluster\": 1}, {\"var1_std\": 1.4770877043635617, \"var2_std\": 0.3485640165414193, \"cluster\": 0}, {\"var1_std\": -0.9367616358409177, \"var2_std\": -0.3681527077896105, \"cluster\": 2}, {\"var1_std\": 0.9152965791965679, \"var2_std\": -1.280560774299916, \"cluster\": 3}, {\"var1_std\": 0.31877627741967696, \"var2_std\": 0.25467509872153143, \"cluster\": 0}, {\"var1_std\": -1.1072074556275424, \"var2_std\": -0.2617060818051461, \"cluster\": 2}, {\"var1_std\": -1.1822795331897442, \"var2_std\": -0.020932723877557933, \"cluster\": 2}, {\"var1_std\": -0.3726138853848799, \"var2_std\": -0.007022236664752676, \"cluster\": 2}, {\"var1_std\": 1.2478182789787642, \"var2_std\": -1.456194020934419, \"cluster\": 3}, {\"var1_std\": 1.319743642741367, \"var2_std\": -1.1317605764510437, \"cluster\": 3}, {\"var1_std\": -0.8349295474451514, \"var2_std\": 1.4680474739479028, \"cluster\": 1}, {\"var1_std\": 0.5636948020585081, \"var2_std\": 0.22486766791393598, \"cluster\": 0}, {\"var1_std\": 0.20826067789221112, \"var2_std\": 0.3740437862127942, \"cluster\": 0}, {\"var1_std\": -1.3184299541703608, \"var2_std\": -0.21539312668390045, \"cluster\": 2}, {\"var1_std\": 0.8407140788827158, \"var2_std\": -1.2869949631585023, \"cluster\": 3}, {\"var1_std\": -0.3457917844371901, \"var2_std\": 1.6084263348822745, \"cluster\": 1}, {\"var1_std\": -0.6117773889425779, \"var2_std\": -0.3412893854716204, \"cluster\": 2}, {\"var1_std\": 0.9191734801046203, \"var2_std\": -0.04221927194235099, \"cluster\": 0}, {\"var1_std\": -0.35763815336720084, \"var2_std\": 1.4392404153146412, \"cluster\": 1}, {\"var1_std\": 0.44175495557247746, \"var2_std\": 0.5581959571825679, \"cluster\": 0}, {\"var1_std\": 1.298149589290163, \"var2_std\": -1.0504891013081548, \"cluster\": 3}, {\"var1_std\": 0.7391048849272401, \"var2_std\": -1.2998538728755478, \"cluster\": 3}, {\"var1_std\": -1.5548184063492823, \"var2_std\": -0.3157085213974754, \"cluster\": 2}, {\"var1_std\": -1.1953551917658791, \"var2_std\": -0.593803169833957, \"cluster\": 2}, {\"var1_std\": 1.4354325908912917, \"var2_std\": -0.20723099343137885, \"cluster\": 0}, {\"var1_std\": 2.05693766436011, \"var2_std\": -0.8758914134539314, \"cluster\": 3}, {\"var1_std\": 1.1322057130754262, \"var2_std\": -1.504121470547292, \"cluster\": 3}, {\"var1_std\": 0.8120720968175758, \"var2_std\": -0.9899224649266107, \"cluster\": 3}, {\"var1_std\": 1.2876816101031834, \"var2_std\": 0.33965894573859157, \"cluster\": 0}, {\"var1_std\": -0.7572236182648551, \"var2_std\": 1.6156095656509457, \"cluster\": 1}, {\"var1_std\": -1.1343820011803007, \"var2_std\": 1.4754681344609353, \"cluster\": 1}, {\"var1_std\": 1.6855708699743541, \"var2_std\": -0.9354154465780223, \"cluster\": 3}, {\"var1_std\": 1.6005368240923268, \"var2_std\": -1.1117083536207133, \"cluster\": 3}, {\"var1_std\": 1.020184694601499, \"var2_std\": -0.15636520291126293, \"cluster\": 0}, {\"var1_std\": 1.4436307004338946, \"var2_std\": -1.2124556769033275, \"cluster\": 3}, {\"var1_std\": 1.3650826188252139, \"var2_std\": -1.2082959698397693, \"cluster\": 3}, {\"var1_std\": 1.9807750547697296, \"var2_std\": -1.0951734460065394, \"cluster\": 3}, {\"var1_std\": -0.9505094581626529, \"var2_std\": 1.2667187434591145, \"cluster\": 1}, {\"var1_std\": -0.3922368911927991, \"var2_std\": -0.20790850072444422, \"cluster\": 2}, {\"var1_std\": -0.8085372974973518, \"var2_std\": 1.7560328989531044, \"cluster\": 1}, {\"var1_std\": 0.5654457646053503, \"var2_std\": -0.02398812687589539, \"cluster\": 0}, {\"var1_std\": 1.4088432967426479, \"var2_std\": -1.8279448516098136, \"cluster\": 3}, {\"var1_std\": 1.1155072777709205, \"var2_std\": -1.0998159742010545, \"cluster\": 3}, {\"var1_std\": -0.6819689379682715, \"var2_std\": 1.213488774084624, \"cluster\": 1}, {\"var1_std\": -1.0094733661977713, \"var2_std\": 1.7942079644656868, \"cluster\": 1}, {\"var1_std\": -0.7771830217790233, \"var2_std\": 1.5445965393452896, \"cluster\": 1}, {\"var1_std\": 1.2123066412714358, \"var2_std\": -0.9221457613988664, \"cluster\": 3}, {\"var1_std\": 1.545774961964882, \"var2_std\": -0.9947553026647357, \"cluster\": 3}, {\"var1_std\": 0.27265393141710936, \"var2_std\": 0.219377475785512, \"cluster\": 0}, {\"var1_std\": 0.23009425619372997, \"var2_std\": 1.476378707705508, \"cluster\": 1}, {\"var1_std\": -1.092978397221448, \"var2_std\": -0.4703949292024077, \"cluster\": 2}], \"data-ac8c2c359a5b6ac5a62ab2387abccc28\": [{\"var1_center\": 0.5853669902798352, \"var2_center\": 0.17425154483845384}, {\"var1_center\": -0.8369194804665948, \"var2_center\": 1.4619301528261297}, {\"var1_center\": -0.9661942212884302, \"var2_center\": -0.4390609319140837}, {\"var1_center\": 1.2177467114751899, \"var2_center\": -1.1971207657504948}]}}, {\"mode\": \"vega-lite\"});\n",
              "</script>"
            ],
            "text/plain": [
              "alt.LayerChart(...)"
            ]
          },
          "execution_count": 71,
          "metadata": {},
          "output_type": "execute_result"
        }
      ],
      "source": [
        "# Create the scatter plot for the data points with cluster colors\n",
        "scatter = alt.Chart(df_std).mark_circle(size=50).encode(\n",
        "    x='var1_std:Q',\n",
        "    y='var2_std:Q',\n",
        "    color=alt.Color('cluster:N', scale=alt.Scale(scheme='viridis'))\n",
        ")\n",
        "\n",
        "# Create the scatter plot for the cluster centers\n",
        "centers_scatter = alt.Chart(centers_data).mark_circle(size=200, color='black', opacity=0.5).encode(\n",
        "    x='var1_center',\n",
        "    y='var2_center'\n",
        ")\n",
        "\n",
        "# Combine the two scatter plots\n",
        "alt.layer(scatter, centers_scatter)"
      ]
    },
    {
      "cell_type": "markdown",
      "metadata": {
        "id": "VwK5OQTiX7_5"
      },
      "source": [
        "The good news is that the k-means algorithm (at least in this simple case) assigns the points to clusters very similarly to how we might assign them by eye."
      ]
    }
  ],
  "metadata": {
    "interpreter": {
      "hash": "43ea22ca6cad7157e530d740b7bf51c214775216a657f6fb9a2e0bac7c71aab9"
    },
    "kernelspec": {
      "display_name": "Python 2",
      "language": "python",
      "name": "python3"
    },
    "language_info": {
      "codemirror_mode": {
        "name": "ipython",
        "version": 3
      },
      "file_extension": ".py",
      "mimetype": "text/x-python",
      "name": "python",
      "nbconvert_exporter": "python",
      "pygments_lexer": "ipython3",
      "version": "3.10.10"
    },
    "toc": {
      "base_numbering": 1,
      "nav_menu": {},
      "number_sections": true,
      "sideBar": true,
      "skip_h1_title": true,
      "title_cell": "Table of Contents",
      "title_sidebar": "Contents",
      "toc_cell": true,
      "toc_position": {},
      "toc_section_display": true,
      "toc_window_display": false
    },
    "colab": {
      "provenance": [],
      "include_colab_link": true
    }
  },
  "nbformat": 4,
  "nbformat_minor": 0
}